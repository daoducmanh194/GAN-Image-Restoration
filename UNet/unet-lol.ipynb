{
 "cells": [
  {
   "cell_type": "markdown",
   "id": "c738f55d",
   "metadata": {},
   "source": [
    "- **`fft = FourierDiscriminantMeta()`**\n",
    "- img `torch.float32` -> fft.get_meta(img) trả ra `torch.complex64` => không pass vào được model torch.nn\n",
    "- Hiện tại: thử tách real và complex của complex64 rồi gộp lại (3x256x256 complex -> 6x256x256) => kết quả tệ"
   ]
  },
  {
   "cell_type": "code",
   "execution_count": 1,
   "id": "a7923719",
   "metadata": {
    "execution": {
     "iopub.execute_input": "2024-11-25T03:27:21.577387Z",
     "iopub.status.busy": "2024-11-25T03:27:21.577095Z",
     "iopub.status.idle": "2024-11-25T03:27:31.151986Z",
     "shell.execute_reply": "2024-11-25T03:27:31.150806Z"
    },
    "papermill": {
     "duration": 9.582992,
     "end_time": "2024-11-25T03:27:31.154204",
     "exception": false,
     "start_time": "2024-11-25T03:27:21.571212",
     "status": "completed"
    },
    "tags": []
   },
   "outputs": [],
   "source": [
    "!pip install -q gdown"
   ]
  },
  {
   "cell_type": "code",
   "execution_count": 2,
   "id": "140444ff",
   "metadata": {
    "execution": {
     "iopub.execute_input": "2024-11-25T03:27:31.164778Z",
     "iopub.status.busy": "2024-11-25T03:27:31.164462Z",
     "iopub.status.idle": "2024-11-25T03:27:44.652600Z",
     "shell.execute_reply": "2024-11-25T03:27:44.651652Z"
    },
    "papermill": {
     "duration": 13.495453,
     "end_time": "2024-11-25T03:27:44.654415",
     "exception": false,
     "start_time": "2024-11-25T03:27:31.158962",
     "status": "completed"
    },
    "tags": []
   },
   "outputs": [
    {
     "name": "stderr",
     "output_type": "stream",
     "text": [
      "Downloading...\n",
      "From (original): https://drive.google.com/uc?id=157bjO1_cFuSd0HWDUuAmcHRJDVyWpOxB\n",
      "From (redirected): https://drive.google.com/uc?id=157bjO1_cFuSd0HWDUuAmcHRJDVyWpOxB&confirm=t&uuid=0a322c0e-d738-418c-8c84-b89020f30eb8\n",
      "To: /kaggle/working/LOLdataset.zip\n",
      "100%|██████████| 347M/347M [00:08<00:00, 40.0MB/s]\n"
     ]
    },
    {
     "data": {
      "text/plain": [
       "'./LOLdataset.zip'"
      ]
     },
     "execution_count": 2,
     "metadata": {},
     "output_type": "execute_result"
    }
   ],
   "source": [
    "import gdown\n",
    "gdown.download('https://drive.google.com/uc?id=157bjO1_cFuSd0HWDUuAmcHRJDVyWpOxB', \"./\", quiet=False)"
   ]
  },
  {
   "cell_type": "code",
   "execution_count": 3,
   "id": "1f8d5b5f",
   "metadata": {
    "execution": {
     "iopub.execute_input": "2024-11-25T03:27:44.669820Z",
     "iopub.status.busy": "2024-11-25T03:27:44.669229Z",
     "iopub.status.idle": "2024-11-25T03:27:48.448815Z",
     "shell.execute_reply": "2024-11-25T03:27:48.447584Z"
    },
    "papermill": {
     "duration": 3.789281,
     "end_time": "2024-11-25T03:27:48.451061",
     "exception": false,
     "start_time": "2024-11-25T03:27:44.661780",
     "status": "completed"
    },
    "tags": []
   },
   "outputs": [],
   "source": [
    "!unzip -q LOLdataset.zip"
   ]
  },
  {
   "cell_type": "code",
   "execution_count": 4,
   "id": "9cc7af11",
   "metadata": {
    "execution": {
     "iopub.execute_input": "2024-11-25T03:27:48.464980Z",
     "iopub.status.busy": "2024-11-25T03:27:48.464645Z",
     "iopub.status.idle": "2024-11-25T03:27:55.643065Z",
     "shell.execute_reply": "2024-11-25T03:27:55.642167Z"
    },
    "papermill": {
     "duration": 7.188234,
     "end_time": "2024-11-25T03:27:55.645753",
     "exception": false,
     "start_time": "2024-11-25T03:27:48.457519",
     "status": "completed"
    },
    "tags": []
   },
   "outputs": [],
   "source": [
    "import sys\n",
    "sys.path.append('..')\n",
    "import torchvision.models as models\n",
    "import os\n",
    "import argparse\n",
    "import random\n",
    "import numpy as np\n",
    "import torch\n",
    "from torch import optim\n",
    "import torch.nn as nn\n",
    "import torch.nn.functional as F\n",
    "from torch.utils.data import Dataset, DataLoader\n",
    "from PIL import Image\n",
    "import torchvision.transforms.functional as TF\n",
    "from torchvision import transforms\n",
    "from glob import glob\n",
    "from sklearn.model_selection import train_test_split\n",
    "import cv2\n",
    "import gc\n",
    "import os\n",
    "import random\n",
    "import time\n",
    "import wandb\n",
    "import matplotlib.pyplot as plt\n",
    "from PIL import Image\n",
    "from skimage.metrics import structural_similarity as ssim\n",
    "from tqdm import tqdm"
   ]
  },
  {
   "cell_type": "code",
   "execution_count": 5,
   "id": "746247f7",
   "metadata": {
    "execution": {
     "iopub.execute_input": "2024-11-25T03:27:55.666926Z",
     "iopub.status.busy": "2024-11-25T03:27:55.666057Z",
     "iopub.status.idle": "2024-11-25T03:27:55.677940Z",
     "shell.execute_reply": "2024-11-25T03:27:55.677146Z"
    },
    "papermill": {
     "duration": 0.022589,
     "end_time": "2024-11-25T03:27:55.679601",
     "exception": false,
     "start_time": "2024-11-25T03:27:55.657012",
     "status": "completed"
    },
    "tags": []
   },
   "outputs": [],
   "source": [
    "class Augment_RGB_torch:\n",
    "    def __init__(self):\n",
    "        pass\n",
    "    def transform0(self, torch_tensor):\n",
    "        return torch_tensor   \n",
    "    def transform1(self, torch_tensor):\n",
    "        torch_tensor = torch.rot90(torch_tensor, k=1, dims=[-1,-2])\n",
    "        return torch_tensor\n",
    "    def transform2(self, torch_tensor):\n",
    "        torch_tensor = torch.rot90(torch_tensor, k=2, dims=[-1,-2])\n",
    "        return torch_tensor\n",
    "    def transform3(self, torch_tensor):\n",
    "        torch_tensor = torch.rot90(torch_tensor, k=3, dims=[-1,-2])\n",
    "        return torch_tensor\n",
    "    def transform4(self, torch_tensor):\n",
    "        torch_tensor = torch_tensor.flip(-2)\n",
    "        return torch_tensor\n",
    "    def transform5(self, torch_tensor):\n",
    "        torch_tensor = (torch.rot90(torch_tensor, k=1, dims=[-1,-2])).flip(-2)\n",
    "        return torch_tensor\n",
    "    def transform6(self, torch_tensor):\n",
    "        torch_tensor = (torch.rot90(torch_tensor, k=2, dims=[-1,-2])).flip(-2)\n",
    "        return torch_tensor\n",
    "    def transform7(self, torch_tensor):\n",
    "        torch_tensor = (torch.rot90(torch_tensor, k=3, dims=[-1,-2])).flip(-2)\n",
    "        return torch_tensor\n",
    "\n",
    "def load_image(filepath):\n",
    "    image = Image.open(filepath).convert('RGB')\n",
    "    image = image.astype(np.float32)\n",
    "    img = img/255.\n",
    "    return image\n",
    "\n",
    "def load_img(filepath):\n",
    "    img = cv2.cvtColor(cv2.imread(filepath), cv2.COLOR_BGR2RGB)\n",
    "    img = img.astype(np.float32)\n",
    "    img = img/255.\n",
    "    return img"
   ]
  },
  {
   "cell_type": "code",
   "execution_count": 6,
   "id": "46d7fff7",
   "metadata": {
    "execution": {
     "iopub.execute_input": "2024-11-25T03:27:55.698193Z",
     "iopub.status.busy": "2024-11-25T03:27:55.697865Z",
     "iopub.status.idle": "2024-11-25T03:27:55.703624Z",
     "shell.execute_reply": "2024-11-25T03:27:55.702691Z"
    },
    "papermill": {
     "duration": 0.019887,
     "end_time": "2024-11-25T03:27:55.705666",
     "exception": false,
     "start_time": "2024-11-25T03:27:55.685779",
     "status": "completed"
    },
    "tags": []
   },
   "outputs": [],
   "source": [
    "augment = Augment_RGB_torch()\n",
    "transforms_aug = [method for method in dir(augment) if callable(getattr(augment, method)) if not method.startswith('_')] \n",
    "transform = transforms.Compose([\n",
    "    transforms.Resize(256),\n",
    "    transforms.CenterCrop(256),\n",
    "    transforms.RandomResizedCrop(256, scale=(0.8, 1.0)),  # Randomly crop and resize\n",
    "    transforms.ToTensor(),\n",
    "])"
   ]
  },
  {
   "cell_type": "code",
   "execution_count": null,
   "id": "ee861901",
   "metadata": {
    "_cell_guid": "b1076dfc-b9ad-4769-8c92-a6c4dae69d19",
    "_uuid": "8f2839f25d086af736a60e9eeb907d3b93b6e0e5",
    "execution": {
     "iopub.execute_input": "2024-11-25T03:27:55.722262Z",
     "iopub.status.busy": "2024-11-25T03:27:55.721936Z",
     "iopub.status.idle": "2024-11-25T03:27:55.735562Z",
     "shell.execute_reply": "2024-11-25T03:27:55.734813Z"
    },
    "papermill": {
     "duration": 0.022516,
     "end_time": "2024-11-25T03:27:55.737237",
     "exception": false,
     "start_time": "2024-11-25T03:27:55.714721",
     "status": "completed"
    },
    "tags": []
   },
   "outputs": [],
   "source": [
    "import torch\n",
    "from torchvision.utils import save_image\n",
    "\n",
    "class FourierDiscriminantMeta(object):\n",
    "    def __init__(self, shift: bool = True, one_side: bool = False):\n",
    "        \"\"\"\n",
    "        Initialize the FourierDiscriminantMeta class.\n",
    "\n",
    "        Parameters:\n",
    "        shift (bool): Whether to shift the zero-frequency component to the center.\n",
    "        one_side (bool): Whether to compute the one-sided FFT.\n",
    "        \"\"\"\n",
    "        self.shift = shift\n",
    "        self.one_side = one_side\n",
    "    \n",
    "    def get_meta(self, img: torch.Tensor) -> torch.Tensor:\n",
    "        \"\"\"\n",
    "        Compute the Fourier transform of the input image.\n",
    "\n",
    "        Parameters:\n",
    "        img (torch.Tensor): 4-D tensor (b,1,h,w) representing the input image.\n",
    "\n",
    "        Returns:\n",
    "        torch.Tensor: Fourier transformed image.\n",
    "        \"\"\"\n",
    "        if self.one_side:\n",
    "            f = torch.fft.rfft2(img, dim=(-2, -1))\n",
    "        else:\n",
    "            f = torch.fft.fft2(img, dim=(-2, -1))\n",
    "        \n",
    "        if self.shift:\n",
    "            f = torch.fft.fftshift(f, dim=(-2, -1))\n",
    "        \n",
    "        return f\n",
    "    \n",
    "    def visualize(self, f: torch.Tensor, save_path: str = None, binarization: bool = False, normalize: bool = False) -> torch.Tensor:\n",
    "        \"\"\"\n",
    "        Visualize the Fourier transformed image.\n",
    "\n",
    "        Parameters:\n",
    "        f (torch.Tensor): Fourier transformed image.\n",
    "        save_path (str): Path to save the visualized image.\n",
    "        binarization (bool): Whether to binarize the image.\n",
    "        normalize (bool): Whether to normalize the image.\n",
    "\n",
    "        Returns:\n",
    "        torch.Tensor: Visualized image.\n",
    "        \"\"\"\n",
    "        f_img = 20 * torch.log(torch.abs(f))\n",
    "        if binarization:\n",
    "            f_img = torch.where(f_img > 0, torch.ones_like(f_img), torch.zeros_like(f_img))\n",
    "            \n",
    "        if save_path is not None:\n",
    "            save_image(f_img, save_path, normalize=normalize)\n",
    "        \n",
    "        return f_img\n",
    "    \n",
    "    def inverse_meta(self, f: torch.Tensor) -> torch.Tensor:\n",
    "        \"\"\"\n",
    "        Compute the inverse Fourier transform of the input image.\n",
    "\n",
    "        Parameters:\n",
    "        f (torch.Tensor): 4-D tensor (b,1,h,w) representing the Fourier transformed image.\n",
    "\n",
    "        Returns:\n",
    "        torch.Tensor: Inverse Fourier transformed image.\n",
    "        \"\"\"\n",
    "        if self.shift:\n",
    "            f = torch.fft.ifftshift(f, dim=(-2, -1))\n",
    "            \n",
    "        if self.one_side:\n",
    "            f = torch.fft.irfft2(f, dim=(-2, -1))\n",
    "        else:\n",
    "            f = torch.fft.ifft2(f, dim=(-2, -1))\n",
    "        \n",
    "        return torch.abs(f)\n",
    "    \n",
    "    def rgb2gray(self, tensor: torch.Tensor) -> torch.Tensor:\n",
    "        \"\"\"\n",
    "        Convert an RGB tensor image to grayscale.\n",
    "\n",
    "        Parameters:\n",
    "        tensor (torch.Tensor): 4-D tensor (b,c,h,w) representing the RGB image.\n",
    "\n",
    "        Returns:\n",
    "        torch.Tensor: 4-D tensor (b,1,h,w) representing the grayscale image.\n",
    "        \"\"\"\n",
    "        gray = 0.299 * tensor[:, 0, :, :] + 0.587 * tensor[:, 1, :, :] + 0.114 * tensor[:, 2, :, :]\n",
    "        return gray.unsqueeze(1)"
   ]
  },
  {
   "cell_type": "code",
   "execution_count": 8,
   "id": "e76d4e2e",
   "metadata": {
    "execution": {
     "iopub.execute_input": "2024-11-25T03:27:55.750825Z",
     "iopub.status.busy": "2024-11-25T03:27:55.750064Z",
     "iopub.status.idle": "2024-11-25T03:27:55.754089Z",
     "shell.execute_reply": "2024-11-25T03:27:55.753347Z"
    },
    "papermill": {
     "duration": 0.012383,
     "end_time": "2024-11-25T03:27:55.755693",
     "exception": false,
     "start_time": "2024-11-25T03:27:55.743310",
     "status": "completed"
    },
    "tags": []
   },
   "outputs": [],
   "source": [
    "fft = FourierDiscriminantMeta()"
   ]
  },
  {
   "cell_type": "code",
   "execution_count": 9,
   "id": "1e5979d9",
   "metadata": {
    "execution": {
     "iopub.execute_input": "2024-11-25T03:27:55.768794Z",
     "iopub.status.busy": "2024-11-25T03:27:55.768546Z",
     "iopub.status.idle": "2024-11-25T03:27:55.772682Z",
     "shell.execute_reply": "2024-11-25T03:27:55.771899Z"
    },
    "papermill": {
     "duration": 0.012968,
     "end_time": "2024-11-25T03:27:55.774668",
     "exception": false,
     "start_time": "2024-11-25T03:27:55.761700",
     "status": "completed"
    },
    "tags": []
   },
   "outputs": [],
   "source": [
    "def split_real_imag(tensor):\n",
    "    # Split along the channel dimension\n",
    "    c = tensor.shape[1] // 2\n",
    "    real = tensor[:, :c, :, :]  # First half: Real\n",
    "    imag = tensor[:, c:, :, :]  # Second half: Imaginary\n",
    "    return real, imag"
   ]
  },
  {
   "cell_type": "code",
   "execution_count": 10,
   "id": "a11f3746",
   "metadata": {
    "execution": {
     "iopub.execute_input": "2024-11-25T03:27:55.794975Z",
     "iopub.status.busy": "2024-11-25T03:27:55.794680Z",
     "iopub.status.idle": "2024-11-25T03:27:55.808821Z",
     "shell.execute_reply": "2024-11-25T03:27:55.807942Z"
    },
    "papermill": {
     "duration": 0.025305,
     "end_time": "2024-11-25T03:27:55.810475",
     "exception": false,
     "start_time": "2024-11-25T03:27:55.785170",
     "status": "completed"
    },
    "tags": []
   },
   "outputs": [],
   "source": [
    "class GlobalImageDataset(Dataset):\n",
    "    def __init__(self, options, low_quality_images, high_quality_images, labels, transform=None):\n",
    "        self.options = options\n",
    "        self.low_quality_images = low_quality_images\n",
    "        self.high_quality_images = high_quality_images\n",
    "        self.labels = labels\n",
    "        self.transform = transform\n",
    "\n",
    "    def __len__(self):\n",
    "        return len(self.low_quality_images)\n",
    "\n",
    "    def __getitem__(self, idx):\n",
    "        low_img_path = self.low_quality_images[idx]\n",
    "        high_img_path = self.high_quality_images[idx]\n",
    "\n",
    "        # Load images as numpy arrays\n",
    "        low_image = load_img(low_img_path)\n",
    "        high_image = load_img(high_img_path)\n",
    "\n",
    "        # Convert numpy arrays to PIL images\n",
    "        low_image = Image.fromarray((low_image * 255).astype(np.uint8))\n",
    "        high_image = Image.fromarray((high_image * 255).astype(np.uint8))\n",
    "\n",
    "        # Apply transformations if provided\n",
    "        if self.transform:\n",
    "            low_image = self.transform(low_image)\n",
    "            high_image = self.transform(high_image)\n",
    "\n",
    "        # Convert to tensors if the transform does not already do so\n",
    "        if not isinstance(low_image, torch.Tensor):\n",
    "            low_image = TF.to_tensor(low_image)\n",
    "        if not isinstance(high_image, torch.Tensor):\n",
    "            high_image = TF.to_tensor(high_image)\n",
    "\n",
    "        # crop input and target\n",
    "        ps = 256\n",
    "        H = high_image.shape[1]\n",
    "        W = high_image.shape[2]\n",
    "        # r = np.random.randint(0, H - ps) if not H-ps else 0\n",
    "        # c = np.random.randint(0, W - ps) if not H-ps else 0\n",
    "        if H-ps==0:\n",
    "            r=0\n",
    "            c=0\n",
    "        else:\n",
    "            r = np.random.randint(0, H - ps)\n",
    "            c = np.random.randint(0, W - ps)\n",
    "        low_image = low_image[:, r:r + ps, c:c + ps]\n",
    "        high_image = high_image[:, r:r + ps, c:c + ps]\n",
    "\n",
    "        apply_trans = transforms_aug[random.getrandbits(3)]\n",
    "\n",
    "        low_image = getattr(augment, apply_trans)(low_image)\n",
    "        high_image = getattr(augment, apply_trans)(high_image)\n",
    "\n",
    "        # Apply Fourier Transform to both images\n",
    "        low_image = fft.get_meta(low_image.unsqueeze(0)).squeeze(0)  \n",
    "        high_image = fft.get_meta(high_image.unsqueeze(0)).squeeze(0)\n",
    "        \n",
    "        low_image_real = low_image.real\n",
    "        low_image_imag = low_image.imag\n",
    "        \n",
    "        high_image_real = high_image.real\n",
    "        high_image_imag = high_image.imag\n",
    "        \n",
    "        low_image = torch.cat([low_image_real, low_image_imag], dim=0)\n",
    "        high_image = torch.cat([high_image_real, high_image_imag], dim=0) \n",
    "        \n",
    "        label = self.labels[idx]\n",
    "        return low_image, high_image, label\n",
    "\n",
    "\n",
    "def load_data(options, datasets, transform=None, val_split=0.2):\n",
    "    all_low_images = []\n",
    "    all_high_images = []\n",
    "    all_labels = []\n",
    "\n",
    "    for data_dir, low_subdir, high_subdir, label in datasets:\n",
    "        low_image_dir = os.path.join(data_dir, low_subdir)\n",
    "        high_image_dir = os.path.join(data_dir, high_subdir)\n",
    "\n",
    "        low_images = [os.path.join(low_image_dir, img) for img in os.listdir(low_image_dir) if img.endswith(('.png', '.jpg', '.jpeg'))]\n",
    "        high_images = [os.path.join(high_image_dir, img) for img in os.listdir(high_image_dir) if img.endswith(('.png', '.jpg', '.jpeg'))]\n",
    "\n",
    "        # Ensure the lengths match by only keeping the common elements\n",
    "        if len(low_images) != len(high_images):\n",
    "            print(f\"Warning: Mismatch in number of images for label {label}. Adjusting to the minimum number of images.\")\n",
    "            min_len = min(len(low_images), len(high_images))\n",
    "            low_images = low_images[:min_len]\n",
    "            high_images = high_images[:min_len]\n",
    "\n",
    "        all_low_images.extend(low_images)\n",
    "        all_high_images.extend(high_images)\n",
    "        all_labels.extend([label] * len(low_images))\n",
    "\n",
    "    # Split data into training and validation sets\n",
    "    train_low, val_low, train_high, val_high, train_labels, val_labels = train_test_split(\n",
    "        all_low_images, all_high_images, all_labels, test_size=val_split, random_state=42\n",
    "    )\n",
    "\n",
    "    # Create Dataset objects\n",
    "    train_dataset = GlobalImageDataset(options, train_low, train_high, train_labels, transform=transform)\n",
    "    val_dataset = GlobalImageDataset(options, val_low, val_high, val_labels, transform=transform)\n",
    "\n",
    "    return train_dataset, val_dataset"
   ]
  },
  {
   "cell_type": "code",
   "execution_count": 11,
   "id": "25d21893",
   "metadata": {
    "execution": {
     "iopub.execute_input": "2024-11-25T03:27:55.823479Z",
     "iopub.status.busy": "2024-11-25T03:27:55.823222Z",
     "iopub.status.idle": "2024-11-25T03:27:59.714422Z",
     "shell.execute_reply": "2024-11-25T03:27:59.713188Z"
    },
    "papermill": {
     "duration": 3.900075,
     "end_time": "2024-11-25T03:27:59.716608",
     "exception": false,
     "start_time": "2024-11-25T03:27:55.816533",
     "status": "completed"
    },
    "tags": []
   },
   "outputs": [
    {
     "name": "stdout",
     "output_type": "stream",
     "text": [
      "torch.Size([32, 6, 256, 256])\n",
      "torch.Size([32, 6, 256, 256])\n",
      "torch.Size([32])\n"
     ]
    }
   ],
   "source": [
    "datasets = [(\"/kaggle/working/our485\", \"low\", \"high\", 0)]\n",
    "\n",
    "# Load and split the data\n",
    "train_dataset, val_dataset = load_data(None, datasets, transform=transform)\n",
    "\n",
    "# Create DataLoaders\n",
    "train_loader = DataLoader(train_dataset, batch_size=32, shuffle=True, num_workers=4)\n",
    "val_loader = DataLoader(val_dataset, batch_size=32, shuffle=False, num_workers=4)\n",
    "\n",
    "# Example of iterating through the train loader\n",
    "for i, (low_images, high_images, labels) in enumerate(train_loader):\n",
    "    print(low_images.shape)  # e.g., torch.Size([32, 3, 640, 840])\n",
    "    print(high_images.shape)  # e.g., torch.Size([32, 3, 640, 840])\n",
    "    print(labels.shape)  # e.g., torch.Size([32])\n",
    "    # print(low_images)\n",
    "    break"
   ]
  },
  {
   "cell_type": "markdown",
   "id": "e5ac1997",
   "metadata": {
    "papermill": {
     "duration": 0.005924,
     "end_time": "2024-11-25T03:27:59.728971",
     "exception": false,
     "start_time": "2024-11-25T03:27:59.723047",
     "status": "completed"
    },
    "tags": []
   },
   "source": [
    "### UNet"
   ]
  },
  {
   "cell_type": "code",
   "execution_count": 12,
   "id": "8c6d22f7",
   "metadata": {
    "execution": {
     "iopub.execute_input": "2024-11-25T03:27:59.743011Z",
     "iopub.status.busy": "2024-11-25T03:27:59.742692Z",
     "iopub.status.idle": "2024-11-25T03:27:59.753334Z",
     "shell.execute_reply": "2024-11-25T03:27:59.752505Z"
    },
    "papermill": {
     "duration": 0.01958,
     "end_time": "2024-11-25T03:27:59.754893",
     "exception": false,
     "start_time": "2024-11-25T03:27:59.735313",
     "status": "completed"
    },
    "tags": []
   },
   "outputs": [],
   "source": [
    "class DoubleConv(nn.Module):\n",
    "    \"\"\"(convolution => [BN] => ReLU) * 2\"\"\"\n",
    "\n",
    "    def __init__(self, in_channels, out_channels, mid_channels=None):\n",
    "        super().__init__()\n",
    "        if not mid_channels:\n",
    "            mid_channels = out_channels\n",
    "        self.double_conv = nn.Sequential(\n",
    "            nn.Conv2d(in_channels, mid_channels, kernel_size=3, padding=1, bias=False),\n",
    "            nn.BatchNorm2d(mid_channels),\n",
    "            nn.ReLU(inplace=True),\n",
    "            nn.Conv2d(mid_channels, out_channels, kernel_size=3, padding=1, bias=False),\n",
    "            nn.BatchNorm2d(out_channels),\n",
    "            nn.ReLU(inplace=True)\n",
    "        )\n",
    "\n",
    "    def forward(self, x):\n",
    "        return self.double_conv(x)\n",
    "\n",
    "\n",
    "class Down(nn.Module):\n",
    "    \"\"\"Downscaling with maxpool then double conv\"\"\"\n",
    "\n",
    "    def __init__(self, in_channels, out_channels):\n",
    "        super().__init__()\n",
    "        self.maxpool_conv = nn.Sequential(\n",
    "            nn.MaxPool2d(2),\n",
    "            DoubleConv(in_channels, out_channels)\n",
    "        )\n",
    "\n",
    "    def forward(self, x):\n",
    "        return self.maxpool_conv(x)\n",
    "\n",
    "\n",
    "class Up(nn.Module):\n",
    "    \"\"\"Upscaling then double conv\"\"\"\n",
    "\n",
    "    def __init__(self, in_channels, out_channels, bilinear=True):\n",
    "        super().__init__()\n",
    "\n",
    "        # if bilinear, use the normal convolutions to reduce the number of channels\n",
    "        if bilinear:\n",
    "            self.up = nn.Upsample(scale_factor=2, mode='bilinear', align_corners=True)\n",
    "            self.conv = DoubleConv(in_channels, out_channels, in_channels // 2)\n",
    "        else:\n",
    "            self.up = nn.ConvTranspose2d(in_channels, in_channels // 2, kernel_size=2, stride=2)\n",
    "            self.conv = DoubleConv(in_channels, out_channels)\n",
    "\n",
    "    def forward(self, x1, x2):\n",
    "        x1 = self.up(x1)\n",
    "        # input is CHW\n",
    "        diffY = x2.size()[2] - x1.size()[2]\n",
    "        diffX = x2.size()[3] - x1.size()[3]\n",
    "\n",
    "        x1 = F.pad(x1, [diffX // 2, diffX - diffX // 2,\n",
    "                        diffY // 2, diffY - diffY // 2])\n",
    "        # if you have padding issues, see\n",
    "        # https://github.com/HaiyongJiang/U-Net-Pytorch-Unstructured-Buggy/commit/0e854509c2cea854e247a9c615f175f76fbb2e3a\n",
    "        # https://github.com/xiaopeng-liao/Pytorch-UNet/commit/8ebac70e633bac59fc22bb5195e513d5832fb3bd\n",
    "        x = torch.cat([x2, x1], dim=1)\n",
    "        return self.conv(x)\n",
    "\n",
    "\n",
    "class OutConv(nn.Module):\n",
    "    def __init__(self, in_channels, out_channels):\n",
    "        super(OutConv, self).__init__()\n",
    "        self.conv = nn.Conv2d(in_channels, out_channels, kernel_size=1)\n",
    "\n",
    "    def forward(self, x):\n",
    "        return self.conv(x)"
   ]
  },
  {
   "cell_type": "code",
   "execution_count": 13,
   "id": "f1d02a66",
   "metadata": {
    "execution": {
     "iopub.execute_input": "2024-11-25T03:27:59.768086Z",
     "iopub.status.busy": "2024-11-25T03:27:59.767368Z",
     "iopub.status.idle": "2024-11-25T03:27:59.776020Z",
     "shell.execute_reply": "2024-11-25T03:27:59.775264Z"
    },
    "papermill": {
     "duration": 0.016976,
     "end_time": "2024-11-25T03:27:59.777717",
     "exception": false,
     "start_time": "2024-11-25T03:27:59.760741",
     "status": "completed"
    },
    "tags": []
   },
   "outputs": [],
   "source": [
    "class UNet(nn.Module):\n",
    "    def __init__(self, n_channels, n_classes, bilinear=False):\n",
    "        super(UNet, self).__init__()\n",
    "        self.n_channels = n_channels\n",
    "        self.n_classes = n_classes\n",
    "        self.bilinear = bilinear\n",
    "\n",
    "        self.inc = (DoubleConv(n_channels, 64))\n",
    "        self.down1 = (Down(64, 128))\n",
    "        self.down2 = (Down(128, 256))\n",
    "        self.down3 = (Down(256, 512))\n",
    "        factor = 2 if bilinear else 1\n",
    "        self.down4 = (Down(512, 1024 // factor))\n",
    "        self.up1 = (Up(1024, 512 // factor, bilinear))\n",
    "        self.up2 = (Up(512, 256 // factor, bilinear))\n",
    "        self.up3 = (Up(256, 128 // factor, bilinear))\n",
    "        self.up4 = (Up(128, 64, bilinear))\n",
    "        self.outc = (OutConv(64, n_classes))\n",
    "\n",
    "    def forward(self, x):\n",
    "        x1 = self.inc(x)\n",
    "        x2 = self.down1(x1)\n",
    "        x3 = self.down2(x2)\n",
    "        x4 = self.down3(x3)\n",
    "        x5 = self.down4(x4)\n",
    "        x = self.up1(x5, x4)\n",
    "        x = self.up2(x, x3)\n",
    "        x = self.up3(x, x2)\n",
    "        x = self.up4(x, x1)\n",
    "        logits = self.outc(x)\n",
    "        return logits\n",
    "\n",
    "    def use_checkpointing(self):\n",
    "        self.inc = torch.utils.checkpoint(self.inc)\n",
    "        self.down1 = torch.utils.checkpoint(self.down1)\n",
    "        self.down2 = torch.utils.checkpoint(self.down2)\n",
    "        self.down3 = torch.utils.checkpoint(self.down3)\n",
    "        self.down4 = torch.utils.checkpoint(self.down4)\n",
    "        self.up1 = torch.utils.checkpoint(self.up1)\n",
    "        self.up2 = torch.utils.checkpoint(self.up2)\n",
    "        self.up3 = torch.utils.checkpoint(self.up3)\n",
    "        self.up4 = torch.utils.checkpoint(self.up4)\n",
    "        self.outc = torch.utils.checkpoint(self.outc)"
   ]
  },
  {
   "cell_type": "code",
   "execution_count": 14,
   "id": "d5352239",
   "metadata": {
    "execution": {
     "iopub.execute_input": "2024-11-25T03:27:59.792232Z",
     "iopub.status.busy": "2024-11-25T03:27:59.791550Z",
     "iopub.status.idle": "2024-11-25T03:28:00.069347Z",
     "shell.execute_reply": "2024-11-25T03:28:00.068610Z"
    },
    "papermill": {
     "duration": 0.287507,
     "end_time": "2024-11-25T03:28:00.071365",
     "exception": false,
     "start_time": "2024-11-25T03:27:59.783858",
     "status": "completed"
    },
    "tags": []
   },
   "outputs": [],
   "source": [
    "model = UNet(n_channels=6, n_classes=6, bilinear=False)"
   ]
  },
  {
   "cell_type": "code",
   "execution_count": 15,
   "id": "7d7af9fd",
   "metadata": {
    "execution": {
     "iopub.execute_input": "2024-11-25T03:28:00.084667Z",
     "iopub.status.busy": "2024-11-25T03:28:00.084381Z",
     "iopub.status.idle": "2024-11-25T03:28:32.702712Z",
     "shell.execute_reply": "2024-11-25T03:28:32.701605Z"
    },
    "papermill": {
     "duration": 32.632435,
     "end_time": "2024-11-25T03:28:32.710070",
     "exception": false,
     "start_time": "2024-11-25T03:28:00.077635",
     "status": "completed"
    },
    "tags": []
   },
   "outputs": [
    {
     "name": "stdout",
     "output_type": "stream",
     "text": [
      "torch.Size([32, 6, 256, 256])\n"
     ]
    }
   ],
   "source": [
    "for i, (low_images, high_images, labels) in enumerate(train_loader):\n",
    "    print(model(low_images).shape)\n",
    "    break"
   ]
  },
  {
   "cell_type": "code",
   "execution_count": 16,
   "id": "aadf4113",
   "metadata": {
    "execution": {
     "iopub.execute_input": "2024-11-25T03:28:32.723263Z",
     "iopub.status.busy": "2024-11-25T03:28:32.722923Z",
     "iopub.status.idle": "2024-11-25T03:28:32.726834Z",
     "shell.execute_reply": "2024-11-25T03:28:32.726053Z"
    },
    "papermill": {
     "duration": 0.012284,
     "end_time": "2024-11-25T03:28:32.728283",
     "exception": false,
     "start_time": "2024-11-25T03:28:32.715999",
     "status": "completed"
    },
    "tags": []
   },
   "outputs": [],
   "source": [
    "# real_part, imag_part = split_real_imag(model(low_images))\n",
    "\n",
    "# test = fft.inverse_meta(torch.complex(real_part, imag_part))"
   ]
  },
  {
   "cell_type": "code",
   "execution_count": 17,
   "id": "fe9b9383",
   "metadata": {
    "execution": {
     "iopub.execute_input": "2024-11-25T03:28:32.741145Z",
     "iopub.status.busy": "2024-11-25T03:28:32.740869Z",
     "iopub.status.idle": "2024-11-25T03:28:32.744471Z",
     "shell.execute_reply": "2024-11-25T03:28:32.743665Z"
    },
    "papermill": {
     "duration": 0.011802,
     "end_time": "2024-11-25T03:28:32.746024",
     "exception": false,
     "start_time": "2024-11-25T03:28:32.734222",
     "status": "completed"
    },
    "tags": []
   },
   "outputs": [],
   "source": [
    "# test.shape"
   ]
  },
  {
   "cell_type": "code",
   "execution_count": 18,
   "id": "52c4455a",
   "metadata": {
    "execution": {
     "iopub.execute_input": "2024-11-25T03:28:32.760394Z",
     "iopub.status.busy": "2024-11-25T03:28:32.759914Z",
     "iopub.status.idle": "2024-11-25T03:28:32.763309Z",
     "shell.execute_reply": "2024-11-25T03:28:32.762617Z"
    },
    "papermill": {
     "duration": 0.011744,
     "end_time": "2024-11-25T03:28:32.764791",
     "exception": false,
     "start_time": "2024-11-25T03:28:32.753047",
     "status": "completed"
    },
    "tags": []
   },
   "outputs": [],
   "source": [
    "# test[0]"
   ]
  },
  {
   "cell_type": "markdown",
   "id": "299734c9",
   "metadata": {
    "papermill": {
     "duration": 0.005771,
     "end_time": "2024-11-25T03:28:32.776732",
     "exception": false,
     "start_time": "2024-11-25T03:28:32.770961",
     "status": "completed"
    },
    "tags": []
   },
   "source": [
    "### Training"
   ]
  },
  {
   "cell_type": "code",
   "execution_count": 19,
   "id": "3c8704d8",
   "metadata": {
    "execution": {
     "iopub.execute_input": "2024-11-25T03:28:32.789423Z",
     "iopub.status.busy": "2024-11-25T03:28:32.789193Z",
     "iopub.status.idle": "2024-11-25T03:28:32.870038Z",
     "shell.execute_reply": "2024-11-25T03:28:32.869179Z"
    },
    "papermill": {
     "duration": 0.089107,
     "end_time": "2024-11-25T03:28:32.871711",
     "exception": false,
     "start_time": "2024-11-25T03:28:32.782604",
     "status": "completed"
    },
    "tags": []
   },
   "outputs": [],
   "source": [
    "NUM_EPOCHS=100\n",
    "BATCH_SIZE=32\n",
    "LR=1e-4\n",
    "STEP_SIZE=20\n",
    "BETAS = (0.9, 0.999)\n",
    "EPS=1e-08\n",
    "GAMMA = 0.67\n",
    "DEVICE = torch.device('cuda' if torch.cuda.is_available() else 'cpu')"
   ]
  },
  {
   "cell_type": "code",
   "execution_count": 20,
   "id": "b6ea08f8",
   "metadata": {
    "execution": {
     "iopub.execute_input": "2024-11-25T03:28:32.884851Z",
     "iopub.status.busy": "2024-11-25T03:28:32.884578Z",
     "iopub.status.idle": "2024-11-25T03:28:32.889947Z",
     "shell.execute_reply": "2024-11-25T03:28:32.889142Z"
    },
    "papermill": {
     "duration": 0.01366,
     "end_time": "2024-11-25T03:28:32.891585",
     "exception": false,
     "start_time": "2024-11-25T03:28:32.877925",
     "status": "completed"
    },
    "tags": []
   },
   "outputs": [
    {
     "data": {
      "text/plain": [
       "device(type='cuda')"
      ]
     },
     "execution_count": 20,
     "metadata": {},
     "output_type": "execute_result"
    }
   ],
   "source": [
    "DEVICE"
   ]
  },
  {
   "cell_type": "code",
   "execution_count": 21,
   "id": "0e3fbefb",
   "metadata": {
    "execution": {
     "iopub.execute_input": "2024-11-25T03:28:32.904587Z",
     "iopub.status.busy": "2024-11-25T03:28:32.904059Z",
     "iopub.status.idle": "2024-11-25T03:28:32.908207Z",
     "shell.execute_reply": "2024-11-25T03:28:32.907401Z"
    },
    "papermill": {
     "duration": 0.012324,
     "end_time": "2024-11-25T03:28:32.909797",
     "exception": false,
     "start_time": "2024-11-25T03:28:32.897473",
     "status": "completed"
    },
    "tags": []
   },
   "outputs": [],
   "source": [
    "def complex_mse_loss_concat(predicted, target):\n",
    "    pred_real, pred_imag = split_real_imag(predicted)\n",
    "    targ_real, targ_imag = split_real_imag(target)\n",
    "\n",
    "    real_loss = torch.nn.functional.mse_loss(pred_real, targ_real)\n",
    "    imag_loss = torch.nn.functional.mse_loss(pred_imag, targ_imag)\n",
    "\n",
    "    return real_loss + imag_loss"
   ]
  },
  {
   "cell_type": "code",
   "execution_count": 22,
   "id": "c85903c4",
   "metadata": {
    "execution": {
     "iopub.execute_input": "2024-11-25T03:28:32.923024Z",
     "iopub.status.busy": "2024-11-25T03:28:32.922796Z",
     "iopub.status.idle": "2024-11-25T03:28:33.112665Z",
     "shell.execute_reply": "2024-11-25T03:28:33.111930Z"
    },
    "papermill": {
     "duration": 0.198707,
     "end_time": "2024-11-25T03:28:33.114479",
     "exception": false,
     "start_time": "2024-11-25T03:28:32.915772",
     "status": "completed"
    },
    "tags": []
   },
   "outputs": [],
   "source": [
    "class Network:\n",
    "    def __init__(self, for_inference=False, train_dataloader=train_loader, val_dataloader=val_loader,\n",
    "                lr=LR, betas=BETAS, step_size = STEP_SIZE, device=DEVICE, num_epochs=NUM_EPOCHS,\n",
    "                eps = EPS, gamma=GAMMA, run_id=None):\n",
    "        self.for_inference=for_inference\n",
    "        self.model = UNet(n_channels=6, n_classes=6, bilinear=False).to(device)\n",
    "        self.device=device\n",
    "        \n",
    "        if not self.for_inference:\n",
    "            self.loss_fn = complex_mse_loss_concat\n",
    "            self.optimizer = optim.Adam(self.model.parameters(), lr=lr, betas=betas, eps=eps)\n",
    "            self.scheduler = optim.lr_scheduler.StepLR(self.optimizer, step_size=step_size, gamma=gamma)\n",
    "\n",
    "            self.train_dataloader = train_dataloader\n",
    "            self.val_dataloader = val_dataloader\n",
    "            self.num_epochs = num_epochs\n",
    "\n",
    "            self.run_id = run_id\n",
    "            \n",
    "    def save_network(self, epoch, train_loss, valid_loss, checkpoint_path):\n",
    "        os.makedirs(os.path.dirname(checkpoint_path), exist_ok=True)\n",
    "        checkpoint = {\n",
    "            'epoch': epoch,\n",
    "            'train_loss': train_loss,\n",
    "            'valid_loss': valid_loss,\n",
    "            'model': self.model.state_dict(),\n",
    "            'optimizer': self.optimizer.state_dict(),\n",
    "            'learning_rate_scheduler': self.scheduler.state_dict(),\n",
    "            'network': self\n",
    "        }\n",
    "        torch.save(checkpoint, checkpoint_path)\n",
    "        \n",
    "    def load_network(self, checkpoint_path):\n",
    "        checkpoint = torch.load(checkpoint_path)\n",
    "        if not self.for_inference:\n",
    "            self.model.load_state_dict(checkpoint['model'])\n",
    "            self.optimizer.load_state_dict(checkpoint['optimizer'])\n",
    "            self.scheduler.load_state_dict(checkpoint['learning_rate_scheduler'])\n",
    "        return checkpoint['epoch'], checkpoint['train_loss'], checkpoint['valid_loss']\n",
    "\n",
    "    def save_model(self, checkpoint_path):\n",
    "        os.makedirs(os.path.dirname(checkpoint_path), exist_ok=True)\n",
    "        torch.save(self.model, checkpoint_path)\n",
    "    \n",
    "    def train_step(self, low_images, high_images):\n",
    "        low_images, high_images = low_images.to(self.device), high_images.to(self.device)\n",
    "        self.optimizer.zero_grad()\n",
    "        res_images = self.model(low_images)\n",
    "        loss = self.loss_fn(res_images, high_images)\n",
    "        loss.backward()\n",
    "        self.optimizer.step()\n",
    "        return loss.item()\n",
    "    \n",
    "    def valid_step(self, low_images, high_images):\n",
    "        low_images, high_images = low_images.to(self.device), high_images.to(self.device)\n",
    "        res_images = self.model(low_images)\n",
    "        loss = self.loss_fn(res_images, high_images)\n",
    "        return loss.item()\n",
    "    \n",
    "    def train_model(self):\n",
    "        last_valid_loss = float('inf')\n",
    "        wandb.init(project='UNet',\n",
    "                   resume='allow',\n",
    "                   config={\n",
    "                       'lr': LR,\n",
    "                       'betas': BETAS,\n",
    "                       'eps': EPS,\n",
    "                       'step_size': STEP_SIZE,\n",
    "                       'gamma': GAMMA,\n",
    "                       'num_epochs': NUM_EPOCHS,\n",
    "                   },\n",
    "                   id=self.run_id)\n",
    "        wandb.watch(self.model)\n",
    "\n",
    "        for epoch in range(self.num_epochs):\n",
    "            \n",
    "            start = time.time()\n",
    "\n",
    "            # ------------------- TRAIN -------------------\n",
    "            self.model.train()\n",
    "            train_epoch_loss = 0\n",
    "\n",
    "            for low_images, high_images, _  in tqdm(self.train_dataloader, desc=f'Epoch {epoch+1}/{self.num_epochs}'):\n",
    "                loss = self.train_step(low_images, high_images)\n",
    "                train_epoch_loss += loss\n",
    "            \n",
    "            del high_images\n",
    "            del low_images\n",
    "            gc.collect()\n",
    "            torch.cuda.empty_cache()\n",
    "            \n",
    "            train_epoch_loss /= len(self.train_dataloader)\n",
    "\n",
    "            end = time.time()\n",
    "\n",
    "            # ------------------- VALID -------------------\n",
    "            self.model.eval()\n",
    "            with torch.no_grad():\n",
    "                valid_epoch_loss = 0\n",
    "\n",
    "                for low_images, high_images, _ in tqdm(self.val_dataloader, desc=f'Epoch {epoch+1}/{self.num_epochs}'):\n",
    "                    loss = self.valid_step(low_images, high_images)\n",
    "                    valid_epoch_loss += loss\n",
    "                \n",
    "                del high_images\n",
    "                del low_images\n",
    "                gc.collect()\n",
    "                torch.cuda.empty_cache()\n",
    "                \n",
    "                valid_epoch_loss /= len(self.val_dataloader)\n",
    "            \n",
    "            # ------------------- LOG -------------------\n",
    "            wandb.log({\n",
    "                'train_loss': train_epoch_loss,\n",
    "                'valid_loss': valid_epoch_loss,\n",
    "                'learning_rate': self.optimizer.param_groups[0]['lr']\n",
    "            })\n",
    "            self.scheduler.step()\n",
    "\n",
    "            # ------------------- VERBOSE -------------------\n",
    "            print(f'Epoch {epoch+1}/{self.num_epochs} | Train Loss: {train_epoch_loss:.4f} | Valid Loss: {valid_epoch_loss:.4f} | Time: {end-start:.2f}s')\n",
    "\n",
    "            # ------------------- CHECKPOINT -------------------\n",
    "            self.save_network(epoch, train_epoch_loss, valid_epoch_loss, './network_checkpoint_latest.pth')\n",
    "            self.save_model('./latest/model.pth')\n",
    "            if valid_epoch_loss < last_valid_loss:\n",
    "                last_valid_loss = valid_epoch_loss\n",
    "                self.save_network(epoch, train_epoch_loss, valid_epoch_loss, './network_checkpoint_best.pth')\n",
    "                self.save_model('./best/model.pth')\n",
    "                print(\"New best checkpoint saved!\")\n",
    "        \n",
    "        wandb.finish()\n",
    "        \n",
    "    def inference(self, low_image, high_image=None):\n",
    "        \"\"\"\n",
    "        - lq_image: torch.Tensor\n",
    "            3D Tensor (C, H, W)\n",
    "        - hq_image: torch.Tesnor\n",
    "            3D Tensor (C, H, W). This parameter is optional, for comparing the model output and the \n",
    "            ground-truth high-quality image. If used solely for inference, skip this. Default is None/\n",
    "        \"\"\"\n",
    "        low_image_fft = fft.get_meta(low_image.unsqueeze(0))\n",
    "        \n",
    "        low_image_real = low_image.real\n",
    "        low_image_imag = low_image.imag        \n",
    "        low_image_combined = torch.cat([low_image_real, low_image_imag], dim=0).to(device)\n",
    "\n",
    "        with torch.no_grad():\n",
    "            res_image_combined = self.model(low_image_combined)\n",
    "            \n",
    "        real_part, imag_part = split_real_imag(res_image_combined)\n",
    "        res_image = fft.inverse_meta(torch.complex(real_part, imag_part))\n",
    "        print(\">> Size of low-quality image:\", low_image.size())\n",
    "        print(\">> Size of restored image:\", res_image.size())\n",
    "                                     \n",
    "        if high_image != None:\n",
    "            high_image = high_image.squeeze(0) \n",
    "            print(\">> Size of high-quality image:\", high_image.size())\n",
    "            fig, axes = plt.subplots(1, 3, figsize=(10, 6))\n",
    "            axes[0].imshow(low_image.cpu().detach().permute((1, 2, 0)))\n",
    "            axes[0].set_title('Low Quality')\n",
    "            axes[1].imshow(res_image.cpu().detach().permute((1, 2, 0)))\n",
    "            axes[1].set_title('Restored')\n",
    "            axes[2].imshow(high_image.cpu().detach().permute((1, 2, 0)))\n",
    "            axes[2].set_title('High Quality')\n",
    "            for ax in axes.flat:\n",
    "                ax.axis('off')\n",
    "        else:\n",
    "            fig, axes = plt.subplots(1, 2, figsize=(10, 6))\n",
    "            axes[0].imshow(low_image.cpu().detach().permute((1, 2, 0)))\n",
    "            axes[0].set_title('Low Quality')\n",
    "            axes[1].imshow(res_image.cpu().detach().permute((1, 2, 0)))\n",
    "            axes[1].set_title('Restored')\n",
    "            for ax in axes.flat:\n",
    "                ax.axis('off')\n",
    "        \n",
    "        plt.tight_layout()        \n",
    "        plt.show()        \n",
    "        return res_image    \n",
    "    \n",
    "    def train_model_continue(self, checkpoint_path):\n",
    "        \n",
    "        start_epoch, train_loss, valid_loss = self.load_network(checkpoint_path)\n",
    "        print(\"Previous train loss: \", train_loss)\n",
    "        print(\"Previous valid loss: \", valid_loss)\n",
    "        print(\"------------------- Resuming training -------------------\")\n",
    "        self.num_epochs -= start_epoch\n",
    "        self.train_model()"
   ]
  },
  {
   "cell_type": "code",
   "execution_count": null,
   "id": "24f354c6",
   "metadata": {
    "execution": {
     "iopub.execute_input": "2024-11-25T03:28:33.128245Z",
     "iopub.status.busy": "2024-11-25T03:28:33.127973Z",
     "iopub.status.idle": "2024-11-25T04:18:32.045777Z",
     "shell.execute_reply": "2024-11-25T04:18:32.045104Z"
    },
    "papermill": {
     "duration": 2998.926367,
     "end_time": "2024-11-25T04:18:32.047515",
     "exception": false,
     "start_time": "2024-11-25T03:28:33.121148",
     "status": "completed"
    },
    "tags": []
   },
   "outputs": [
    {
     "name": "stderr",
     "output_type": "stream",
     "text": [
      "\u001b[34m\u001b[1mwandb\u001b[0m: Using wandb-core as the SDK backend. Please refer to https://wandb.me/wandb-core for more information.\n",
      "\u001b[34m\u001b[1mwandb\u001b[0m: W&B API key is configured. Use \u001b[1m`wandb login --relogin`\u001b[0m to force relogin\n",
      "\u001b[34m\u001b[1mwandb\u001b[0m: \u001b[33mWARNING\u001b[0m If you're specifying your api key in code, ensure this code is not shared publicly.\n",
      "\u001b[34m\u001b[1mwandb\u001b[0m: \u001b[33mWARNING\u001b[0m Consider setting the WANDB_API_KEY environment variable, or running `wandb login` from the command line.\n",
      "\u001b[34m\u001b[1mwandb\u001b[0m: Appending key for api.wandb.ai to your netrc file: /root/.netrc\n",
      "\u001b[34m\u001b[1mwandb\u001b[0m: Currently logged in as: \u001b[33mnamnguyen2103\u001b[0m. Use \u001b[1m`wandb login --relogin`\u001b[0m to force relogin\n",
      "\u001b[34m\u001b[1mwandb\u001b[0m: Tracking run with wandb version 0.18.3\n",
      "\u001b[34m\u001b[1mwandb\u001b[0m: Run data is saved locally in \u001b[35m\u001b[1m/kaggle/working/wandb/run-20241125_032834-p4d9x5tr\u001b[0m\n",
      "\u001b[34m\u001b[1mwandb\u001b[0m: Run \u001b[1m`wandb offline`\u001b[0m to turn off syncing.\n",
      "\u001b[34m\u001b[1mwandb\u001b[0m: Syncing run \u001b[33melectric-water-6\u001b[0m\n",
      "\u001b[34m\u001b[1mwandb\u001b[0m: ⭐️ View project at \u001b[34m\u001b[4mhttps://wandb.ai/namnguyen2103/UNet\u001b[0m\n",
      "\u001b[34m\u001b[1mwandb\u001b[0m: 🚀 View run at \u001b[34m\u001b[4mhttps://wandb.ai/namnguyen2103/UNet/runs/p4d9x5tr\u001b[0m\n",
      "Epoch 1/100: 100%|██████████| 13/13 [00:23<00:00,  1.79s/it]\n",
      "Epoch 1/100: 100%|██████████| 4/4 [00:03<00:00,  1.15it/s]\n"
     ]
    },
    {
     "name": "stdout",
     "output_type": "stream",
     "text": [
      "Epoch 1/100 | Train Loss: 16123.4382 | Valid Loss: 13847.5059 | Time: 23.47s\n",
      "New best checkpoint saved!\n"
     ]
    },
    {
     "name": "stderr",
     "output_type": "stream",
     "text": [
      "Epoch 2/100: 100%|██████████| 13/13 [00:22<00:00,  1.72s/it]\n",
      "Epoch 2/100: 100%|██████████| 4/4 [00:03<00:00,  1.17it/s]\n"
     ]
    },
    {
     "name": "stdout",
     "output_type": "stream",
     "text": [
      "Epoch 2/100 | Train Loss: 16303.1055 | Valid Loss: 13722.9531 | Time: 22.53s\n",
      "New best checkpoint saved!\n"
     ]
    },
    {
     "name": "stderr",
     "output_type": "stream",
     "text": [
      "Epoch 3/100: 100%|██████████| 13/13 [00:22<00:00,  1.75s/it]\n",
      "Epoch 3/100: 100%|██████████| 4/4 [00:03<00:00,  1.15it/s]\n"
     ]
    },
    {
     "name": "stdout",
     "output_type": "stream",
     "text": [
      "Epoch 3/100 | Train Loss: 16038.7104 | Valid Loss: 13638.0029 | Time: 23.02s\n",
      "New best checkpoint saved!\n"
     ]
    },
    {
     "name": "stderr",
     "output_type": "stream",
     "text": [
      "Epoch 4/100: 100%|██████████| 13/13 [00:24<00:00,  1.87s/it]\n",
      "Epoch 4/100: 100%|██████████| 4/4 [00:03<00:00,  1.15it/s]\n"
     ]
    },
    {
     "name": "stdout",
     "output_type": "stream",
     "text": [
      "Epoch 4/100 | Train Loss: 16304.6679 | Valid Loss: 13512.9854 | Time: 24.51s\n",
      "New best checkpoint saved!\n"
     ]
    },
    {
     "name": "stderr",
     "output_type": "stream",
     "text": [
      "Epoch 5/100: 100%|██████████| 13/13 [00:24<00:00,  1.92s/it]\n",
      "Epoch 5/100: 100%|██████████| 4/4 [00:03<00:00,  1.09it/s]\n"
     ]
    },
    {
     "name": "stdout",
     "output_type": "stream",
     "text": [
      "Epoch 5/100 | Train Loss: 15882.2903 | Valid Loss: 13770.6146 | Time: 25.16s\n"
     ]
    },
    {
     "name": "stderr",
     "output_type": "stream",
     "text": [
      "Epoch 6/100: 100%|██████████| 13/13 [00:24<00:00,  1.88s/it]\n",
      "Epoch 6/100: 100%|██████████| 4/4 [00:03<00:00,  1.09it/s]\n"
     ]
    },
    {
     "name": "stdout",
     "output_type": "stream",
     "text": [
      "Epoch 6/100 | Train Loss: 16012.4706 | Valid Loss: 13693.3739 | Time: 24.69s\n"
     ]
    },
    {
     "name": "stderr",
     "output_type": "stream",
     "text": [
      "Epoch 7/100: 100%|██████████| 13/13 [00:24<00:00,  1.88s/it]\n",
      "Epoch 7/100: 100%|██████████| 4/4 [00:03<00:00,  1.11it/s]\n"
     ]
    },
    {
     "name": "stdout",
     "output_type": "stream",
     "text": [
      "Epoch 7/100 | Train Loss: 16301.1680 | Valid Loss: 13641.7500 | Time: 24.72s\n"
     ]
    },
    {
     "name": "stderr",
     "output_type": "stream",
     "text": [
      "Epoch 8/100: 100%|██████████| 13/13 [00:24<00:00,  1.90s/it]\n",
      "Epoch 8/100: 100%|██████████| 4/4 [00:03<00:00,  1.12it/s]\n"
     ]
    },
    {
     "name": "stdout",
     "output_type": "stream",
     "text": [
      "Epoch 8/100 | Train Loss: 16132.5760 | Valid Loss: 13722.6965 | Time: 24.87s\n"
     ]
    },
    {
     "name": "stderr",
     "output_type": "stream",
     "text": [
      "Epoch 9/100: 100%|██████████| 13/13 [00:24<00:00,  1.89s/it]\n",
      "Epoch 9/100: 100%|██████████| 4/4 [00:03<00:00,  1.12it/s]\n"
     ]
    },
    {
     "name": "stdout",
     "output_type": "stream",
     "text": [
      "Epoch 9/100 | Train Loss: 16127.4948 | Valid Loss: 13438.8856 | Time: 24.85s\n",
      "New best checkpoint saved!\n"
     ]
    },
    {
     "name": "stderr",
     "output_type": "stream",
     "text": [
      "Epoch 10/100: 100%|██████████| 13/13 [00:24<00:00,  1.90s/it]\n",
      "Epoch 10/100: 100%|██████████| 4/4 [00:03<00:00,  1.11it/s]\n"
     ]
    },
    {
     "name": "stdout",
     "output_type": "stream",
     "text": [
      "Epoch 10/100 | Train Loss: 15972.8361 | Valid Loss: 13577.9062 | Time: 24.93s\n"
     ]
    },
    {
     "name": "stderr",
     "output_type": "stream",
     "text": [
      "Epoch 11/100: 100%|██████████| 13/13 [00:24<00:00,  1.91s/it]\n",
      "Epoch 11/100: 100%|██████████| 4/4 [00:03<00:00,  1.11it/s]\n"
     ]
    },
    {
     "name": "stdout",
     "output_type": "stream",
     "text": [
      "Epoch 11/100 | Train Loss: 16434.6967 | Valid Loss: 13729.2946 | Time: 24.98s\n"
     ]
    },
    {
     "name": "stderr",
     "output_type": "stream",
     "text": [
      "Epoch 12/100: 100%|██████████| 13/13 [00:24<00:00,  1.88s/it]\n",
      "Epoch 12/100: 100%|██████████| 4/4 [00:03<00:00,  1.13it/s]\n"
     ]
    },
    {
     "name": "stdout",
     "output_type": "stream",
     "text": [
      "Epoch 12/100 | Train Loss: 15952.9189 | Valid Loss: 13665.7289 | Time: 24.72s\n"
     ]
    },
    {
     "name": "stderr",
     "output_type": "stream",
     "text": [
      "Epoch 13/100: 100%|██████████| 13/13 [00:24<00:00,  1.90s/it]\n",
      "Epoch 13/100: 100%|██████████| 4/4 [00:03<00:00,  1.12it/s]\n"
     ]
    },
    {
     "name": "stdout",
     "output_type": "stream",
     "text": [
      "Epoch 13/100 | Train Loss: 15938.4466 | Valid Loss: 13506.5330 | Time: 24.92s\n"
     ]
    },
    {
     "name": "stderr",
     "output_type": "stream",
     "text": [
      "Epoch 14/100: 100%|██████████| 13/13 [00:24<00:00,  1.90s/it]\n",
      "Epoch 14/100: 100%|██████████| 4/4 [00:03<00:00,  1.11it/s]\n"
     ]
    },
    {
     "name": "stdout",
     "output_type": "stream",
     "text": [
      "Epoch 14/100 | Train Loss: 15945.9986 | Valid Loss: 13690.8004 | Time: 24.87s\n"
     ]
    },
    {
     "name": "stderr",
     "output_type": "stream",
     "text": [
      "Epoch 15/100: 100%|██████████| 13/13 [00:24<00:00,  1.89s/it]\n",
      "Epoch 15/100: 100%|██████████| 4/4 [00:03<00:00,  1.11it/s]\n"
     ]
    },
    {
     "name": "stdout",
     "output_type": "stream",
     "text": [
      "Epoch 15/100 | Train Loss: 15779.9636 | Valid Loss: 13684.8069 | Time: 24.82s\n"
     ]
    },
    {
     "name": "stderr",
     "output_type": "stream",
     "text": [
      "Epoch 16/100: 100%|██████████| 13/13 [00:24<00:00,  1.88s/it]\n",
      "Epoch 16/100: 100%|██████████| 4/4 [00:03<00:00,  1.12it/s]\n"
     ]
    },
    {
     "name": "stdout",
     "output_type": "stream",
     "text": [
      "Epoch 16/100 | Train Loss: 16101.1495 | Valid Loss: 13543.3823 | Time: 24.72s\n"
     ]
    },
    {
     "name": "stderr",
     "output_type": "stream",
     "text": [
      "Epoch 17/100: 100%|██████████| 13/13 [00:24<00:00,  1.89s/it]\n",
      "Epoch 17/100: 100%|██████████| 4/4 [00:03<00:00,  1.09it/s]\n"
     ]
    },
    {
     "name": "stdout",
     "output_type": "stream",
     "text": [
      "Epoch 17/100 | Train Loss: 16139.1156 | Valid Loss: 13618.0646 | Time: 24.74s\n"
     ]
    },
    {
     "name": "stderr",
     "output_type": "stream",
     "text": [
      "Epoch 18/100: 100%|██████████| 13/13 [00:24<00:00,  1.90s/it]\n",
      "Epoch 18/100: 100%|██████████| 4/4 [00:03<00:00,  1.11it/s]\n"
     ]
    },
    {
     "name": "stdout",
     "output_type": "stream",
     "text": [
      "Epoch 18/100 | Train Loss: 15600.3688 | Valid Loss: 13511.0762 | Time: 24.90s\n"
     ]
    },
    {
     "name": "stderr",
     "output_type": "stream",
     "text": [
      "Epoch 19/100: 100%|██████████| 13/13 [00:24<00:00,  1.89s/it]\n",
      "Epoch 19/100: 100%|██████████| 4/4 [00:03<00:00,  1.10it/s]\n"
     ]
    },
    {
     "name": "stdout",
     "output_type": "stream",
     "text": [
      "Epoch 19/100 | Train Loss: 15690.8368 | Valid Loss: 13466.7822 | Time: 24.75s\n"
     ]
    },
    {
     "name": "stderr",
     "output_type": "stream",
     "text": [
      "Epoch 20/100: 100%|██████████| 13/13 [00:24<00:00,  1.89s/it]\n",
      "Epoch 20/100: 100%|██████████| 4/4 [00:03<00:00,  1.12it/s]\n"
     ]
    },
    {
     "name": "stdout",
     "output_type": "stream",
     "text": [
      "Epoch 20/100 | Train Loss: 15953.5614 | Valid Loss: 13416.9789 | Time: 24.79s\n",
      "New best checkpoint saved!\n"
     ]
    },
    {
     "name": "stderr",
     "output_type": "stream",
     "text": [
      "Epoch 21/100: 100%|██████████| 13/13 [00:24<00:00,  1.90s/it]\n",
      "Epoch 21/100: 100%|██████████| 4/4 [00:03<00:00,  1.11it/s]\n"
     ]
    },
    {
     "name": "stdout",
     "output_type": "stream",
     "text": [
      "Epoch 21/100 | Train Loss: 15785.0587 | Valid Loss: 13406.8180 | Time: 24.88s\n",
      "New best checkpoint saved!\n"
     ]
    },
    {
     "name": "stderr",
     "output_type": "stream",
     "text": [
      "Epoch 22/100: 100%|██████████| 13/13 [00:25<00:00,  1.93s/it]\n",
      "Epoch 22/100: 100%|██████████| 4/4 [00:03<00:00,  1.11it/s]\n"
     ]
    },
    {
     "name": "stdout",
     "output_type": "stream",
     "text": [
      "Epoch 22/100 | Train Loss: 15904.4029 | Valid Loss: 13430.5447 | Time: 25.30s\n"
     ]
    },
    {
     "name": "stderr",
     "output_type": "stream",
     "text": [
      "Epoch 23/100: 100%|██████████| 13/13 [00:24<00:00,  1.90s/it]\n",
      "Epoch 23/100: 100%|██████████| 4/4 [00:03<00:00,  1.13it/s]\n"
     ]
    },
    {
     "name": "stdout",
     "output_type": "stream",
     "text": [
      "Epoch 23/100 | Train Loss: 15902.4351 | Valid Loss: 13316.6902 | Time: 24.97s\n",
      "New best checkpoint saved!\n"
     ]
    },
    {
     "name": "stderr",
     "output_type": "stream",
     "text": [
      "Epoch 24/100: 100%|██████████| 13/13 [00:24<00:00,  1.89s/it]\n",
      "Epoch 24/100: 100%|██████████| 4/4 [00:03<00:00,  1.15it/s]\n"
     ]
    },
    {
     "name": "stdout",
     "output_type": "stream",
     "text": [
      "Epoch 24/100 | Train Loss: 15627.4660 | Valid Loss: 13533.7373 | Time: 24.82s\n"
     ]
    },
    {
     "name": "stderr",
     "output_type": "stream",
     "text": [
      "Epoch 25/100: 100%|██████████| 13/13 [00:24<00:00,  1.89s/it]\n",
      "Epoch 25/100: 100%|██████████| 4/4 [00:03<00:00,  1.11it/s]\n"
     ]
    },
    {
     "name": "stdout",
     "output_type": "stream",
     "text": [
      "Epoch 25/100 | Train Loss: 15539.3143 | Valid Loss: 13416.5669 | Time: 24.74s\n"
     ]
    },
    {
     "name": "stderr",
     "output_type": "stream",
     "text": [
      "Epoch 26/100: 100%|██████████| 13/13 [00:24<00:00,  1.87s/it]\n",
      "Epoch 26/100: 100%|██████████| 4/4 [00:03<00:00,  1.11it/s]\n"
     ]
    },
    {
     "name": "stdout",
     "output_type": "stream",
     "text": [
      "Epoch 26/100 | Train Loss: 15730.2756 | Valid Loss: 13430.6416 | Time: 24.55s\n"
     ]
    },
    {
     "name": "stderr",
     "output_type": "stream",
     "text": [
      "Epoch 27/100: 100%|██████████| 13/13 [00:24<00:00,  1.89s/it]\n",
      "Epoch 27/100: 100%|██████████| 4/4 [00:03<00:00,  1.10it/s]\n"
     ]
    },
    {
     "name": "stdout",
     "output_type": "stream",
     "text": [
      "Epoch 27/100 | Train Loss: 15487.7534 | Valid Loss: 13176.6510 | Time: 24.76s\n",
      "New best checkpoint saved!\n"
     ]
    },
    {
     "name": "stderr",
     "output_type": "stream",
     "text": [
      "Epoch 28/100: 100%|██████████| 13/13 [00:24<00:00,  1.89s/it]\n",
      "Epoch 28/100: 100%|██████████| 4/4 [00:03<00:00,  1.14it/s]\n"
     ]
    },
    {
     "name": "stdout",
     "output_type": "stream",
     "text": [
      "Epoch 28/100 | Train Loss: 15719.0640 | Valid Loss: 13359.9495 | Time: 24.75s\n"
     ]
    },
    {
     "name": "stderr",
     "output_type": "stream",
     "text": [
      "Epoch 29/100: 100%|██████████| 13/13 [00:24<00:00,  1.89s/it]\n",
      "Epoch 29/100: 100%|██████████| 4/4 [00:03<00:00,  1.12it/s]\n"
     ]
    },
    {
     "name": "stdout",
     "output_type": "stream",
     "text": [
      "Epoch 29/100 | Train Loss: 15534.2396 | Valid Loss: 13419.7792 | Time: 24.72s\n"
     ]
    },
    {
     "name": "stderr",
     "output_type": "stream",
     "text": [
      "Epoch 30/100: 100%|██████████| 13/13 [00:24<00:00,  1.88s/it]\n",
      "Epoch 30/100: 100%|██████████| 4/4 [00:03<00:00,  1.10it/s]\n"
     ]
    },
    {
     "name": "stdout",
     "output_type": "stream",
     "text": [
      "Epoch 30/100 | Train Loss: 15683.2012 | Valid Loss: 13253.6213 | Time: 24.67s\n"
     ]
    },
    {
     "name": "stderr",
     "output_type": "stream",
     "text": [
      "Epoch 31/100: 100%|██████████| 13/13 [00:24<00:00,  1.88s/it]\n",
      "Epoch 31/100: 100%|██████████| 4/4 [00:03<00:00,  1.11it/s]\n"
     ]
    },
    {
     "name": "stdout",
     "output_type": "stream",
     "text": [
      "Epoch 31/100 | Train Loss: 15770.2087 | Valid Loss: 13244.2369 | Time: 24.71s\n"
     ]
    },
    {
     "name": "stderr",
     "output_type": "stream",
     "text": [
      "Epoch 32/100: 100%|██████████| 13/13 [00:24<00:00,  1.89s/it]\n",
      "Epoch 32/100: 100%|██████████| 4/4 [00:03<00:00,  1.10it/s]\n"
     ]
    },
    {
     "name": "stdout",
     "output_type": "stream",
     "text": [
      "Epoch 32/100 | Train Loss: 15414.1964 | Valid Loss: 13110.0902 | Time: 24.77s\n",
      "New best checkpoint saved!\n"
     ]
    },
    {
     "name": "stderr",
     "output_type": "stream",
     "text": [
      "Epoch 33/100: 100%|██████████| 13/13 [00:24<00:00,  1.89s/it]\n",
      "Epoch 33/100: 100%|██████████| 4/4 [00:03<00:00,  1.10it/s]\n"
     ]
    },
    {
     "name": "stdout",
     "output_type": "stream",
     "text": [
      "Epoch 33/100 | Train Loss: 15950.4108 | Valid Loss: 13142.9192 | Time: 24.83s\n"
     ]
    },
    {
     "name": "stderr",
     "output_type": "stream",
     "text": [
      "Epoch 34/100: 100%|██████████| 13/13 [00:24<00:00,  1.89s/it]\n",
      "Epoch 34/100: 100%|██████████| 4/4 [00:03<00:00,  1.11it/s]\n"
     ]
    },
    {
     "name": "stdout",
     "output_type": "stream",
     "text": [
      "Epoch 34/100 | Train Loss: 15861.0711 | Valid Loss: 13270.4915 | Time: 24.83s\n"
     ]
    },
    {
     "name": "stderr",
     "output_type": "stream",
     "text": [
      "Epoch 35/100: 100%|██████████| 13/13 [00:24<00:00,  1.88s/it]\n",
      "Epoch 35/100: 100%|██████████| 4/4 [00:03<00:00,  1.12it/s]\n"
     ]
    },
    {
     "name": "stdout",
     "output_type": "stream",
     "text": [
      "Epoch 35/100 | Train Loss: 15689.9436 | Valid Loss: 13244.5305 | Time: 24.67s\n"
     ]
    },
    {
     "name": "stderr",
     "output_type": "stream",
     "text": [
      "Epoch 36/100: 100%|██████████| 13/13 [00:24<00:00,  1.89s/it]\n",
      "Epoch 36/100: 100%|██████████| 4/4 [00:03<00:00,  1.08it/s]\n"
     ]
    },
    {
     "name": "stdout",
     "output_type": "stream",
     "text": [
      "Epoch 36/100 | Train Loss: 15426.3585 | Valid Loss: 13407.7849 | Time: 24.84s\n"
     ]
    },
    {
     "name": "stderr",
     "output_type": "stream",
     "text": [
      "Epoch 37/100: 100%|██████████| 13/13 [00:24<00:00,  1.89s/it]\n",
      "Epoch 37/100: 100%|██████████| 4/4 [00:03<00:00,  1.12it/s]\n"
     ]
    },
    {
     "name": "stdout",
     "output_type": "stream",
     "text": [
      "Epoch 37/100 | Train Loss: 15287.7246 | Valid Loss: 12996.8888 | Time: 24.84s\n",
      "New best checkpoint saved!\n"
     ]
    },
    {
     "name": "stderr",
     "output_type": "stream",
     "text": [
      "Epoch 38/100: 100%|██████████| 13/13 [00:24<00:00,  1.89s/it]\n",
      "Epoch 38/100: 100%|██████████| 4/4 [00:03<00:00,  1.13it/s]\n"
     ]
    },
    {
     "name": "stdout",
     "output_type": "stream",
     "text": [
      "Epoch 38/100 | Train Loss: 15271.2343 | Valid Loss: 13208.1764 | Time: 24.83s\n"
     ]
    },
    {
     "name": "stderr",
     "output_type": "stream",
     "text": [
      "Epoch 39/100: 100%|██████████| 13/13 [00:24<00:00,  1.90s/it]\n",
      "Epoch 39/100: 100%|██████████| 4/4 [00:03<00:00,  1.11it/s]\n"
     ]
    },
    {
     "name": "stdout",
     "output_type": "stream",
     "text": [
      "Epoch 39/100 | Train Loss: 15450.6917 | Valid Loss: 13091.0626 | Time: 24.86s\n"
     ]
    },
    {
     "name": "stderr",
     "output_type": "stream",
     "text": [
      "Epoch 40/100: 100%|██████████| 13/13 [00:24<00:00,  1.91s/it]\n",
      "Epoch 40/100: 100%|██████████| 4/4 [00:03<00:00,  1.11it/s]\n"
     ]
    },
    {
     "name": "stdout",
     "output_type": "stream",
     "text": [
      "Epoch 40/100 | Train Loss: 15306.4660 | Valid Loss: 13380.3663 | Time: 24.99s\n"
     ]
    },
    {
     "name": "stderr",
     "output_type": "stream",
     "text": [
      "Epoch 41/100: 100%|██████████| 13/13 [00:24<00:00,  1.89s/it]\n",
      "Epoch 41/100: 100%|██████████| 4/4 [00:03<00:00,  1.11it/s]\n"
     ]
    },
    {
     "name": "stdout",
     "output_type": "stream",
     "text": [
      "Epoch 41/100 | Train Loss: 15583.4769 | Valid Loss: 13206.8167 | Time: 24.81s\n"
     ]
    },
    {
     "name": "stderr",
     "output_type": "stream",
     "text": [
      "Epoch 42/100: 100%|██████████| 13/13 [00:24<00:00,  1.90s/it]\n",
      "Epoch 42/100: 100%|██████████| 4/4 [00:03<00:00,  1.10it/s]\n"
     ]
    },
    {
     "name": "stdout",
     "output_type": "stream",
     "text": [
      "Epoch 42/100 | Train Loss: 15235.0122 | Valid Loss: 13157.9230 | Time: 24.88s\n"
     ]
    },
    {
     "name": "stderr",
     "output_type": "stream",
     "text": [
      "Epoch 43/100: 100%|██████████| 13/13 [00:24<00:00,  1.89s/it]\n",
      "Epoch 43/100: 100%|██████████| 4/4 [00:03<00:00,  1.13it/s]\n"
     ]
    },
    {
     "name": "stdout",
     "output_type": "stream",
     "text": [
      "Epoch 43/100 | Train Loss: 15326.0680 | Valid Loss: 13238.5259 | Time: 24.73s\n"
     ]
    },
    {
     "name": "stderr",
     "output_type": "stream",
     "text": [
      "Epoch 44/100: 100%|██████████| 13/13 [00:24<00:00,  1.88s/it]\n",
      "Epoch 44/100: 100%|██████████| 4/4 [00:03<00:00,  1.11it/s]\n"
     ]
    },
    {
     "name": "stdout",
     "output_type": "stream",
     "text": [
      "Epoch 44/100 | Train Loss: 15278.8059 | Valid Loss: 13033.1151 | Time: 24.69s\n"
     ]
    },
    {
     "name": "stderr",
     "output_type": "stream",
     "text": [
      "Epoch 45/100: 100%|██████████| 13/13 [00:24<00:00,  1.89s/it]\n",
      "Epoch 45/100: 100%|██████████| 4/4 [00:03<00:00,  1.11it/s]\n"
     ]
    },
    {
     "name": "stdout",
     "output_type": "stream",
     "text": [
      "Epoch 45/100 | Train Loss: 15644.5703 | Valid Loss: 13083.8904 | Time: 24.82s\n"
     ]
    },
    {
     "name": "stderr",
     "output_type": "stream",
     "text": [
      "Epoch 46/100: 100%|██████████| 13/13 [00:24<00:00,  1.89s/it]\n",
      "Epoch 46/100: 100%|██████████| 4/4 [00:03<00:00,  1.11it/s]\n"
     ]
    },
    {
     "name": "stdout",
     "output_type": "stream",
     "text": [
      "Epoch 46/100 | Train Loss: 15330.0122 | Valid Loss: 13110.3192 | Time: 24.74s\n"
     ]
    },
    {
     "name": "stderr",
     "output_type": "stream",
     "text": [
      "Epoch 47/100: 100%|██████████| 13/13 [00:24<00:00,  1.89s/it]\n",
      "Epoch 47/100: 100%|██████████| 4/4 [00:03<00:00,  1.09it/s]\n"
     ]
    },
    {
     "name": "stdout",
     "output_type": "stream",
     "text": [
      "Epoch 47/100 | Train Loss: 15161.4253 | Valid Loss: 13232.1970 | Time: 24.85s\n"
     ]
    },
    {
     "name": "stderr",
     "output_type": "stream",
     "text": [
      "Epoch 48/100: 100%|██████████| 13/13 [00:24<00:00,  1.88s/it]\n",
      "Epoch 48/100: 100%|██████████| 4/4 [00:03<00:00,  1.10it/s]\n"
     ]
    },
    {
     "name": "stdout",
     "output_type": "stream",
     "text": [
      "Epoch 48/100 | Train Loss: 15338.4251 | Valid Loss: 13146.6946 | Time: 24.69s\n"
     ]
    },
    {
     "name": "stderr",
     "output_type": "stream",
     "text": [
      "Epoch 49/100: 100%|██████████| 13/13 [00:24<00:00,  1.88s/it]\n",
      "Epoch 49/100: 100%|██████████| 4/4 [00:03<00:00,  1.09it/s]\n"
     ]
    },
    {
     "name": "stdout",
     "output_type": "stream",
     "text": [
      "Epoch 49/100 | Train Loss: 15518.3763 | Valid Loss: 12973.8726 | Time: 24.68s\n",
      "New best checkpoint saved!\n"
     ]
    },
    {
     "name": "stderr",
     "output_type": "stream",
     "text": [
      "Epoch 50/100: 100%|██████████| 13/13 [00:24<00:00,  1.89s/it]\n",
      "Epoch 50/100: 100%|██████████| 4/4 [00:03<00:00,  1.10it/s]\n"
     ]
    },
    {
     "name": "stdout",
     "output_type": "stream",
     "text": [
      "Epoch 50/100 | Train Loss: 15446.8647 | Valid Loss: 13173.5397 | Time: 24.73s\n"
     ]
    },
    {
     "name": "stderr",
     "output_type": "stream",
     "text": [
      "Epoch 51/100: 100%|██████████| 13/13 [00:24<00:00,  1.89s/it]\n",
      "Epoch 51/100: 100%|██████████| 4/4 [00:03<00:00,  1.11it/s]\n"
     ]
    },
    {
     "name": "stdout",
     "output_type": "stream",
     "text": [
      "Epoch 51/100 | Train Loss: 15453.3797 | Valid Loss: 13210.2738 | Time: 24.83s\n"
     ]
    },
    {
     "name": "stderr",
     "output_type": "stream",
     "text": [
      "Epoch 52/100: 100%|██████████| 13/13 [00:24<00:00,  1.89s/it]\n",
      "Epoch 52/100: 100%|██████████| 4/4 [00:03<00:00,  1.04it/s]\n"
     ]
    },
    {
     "name": "stdout",
     "output_type": "stream",
     "text": [
      "Epoch 52/100 | Train Loss: 15187.4082 | Valid Loss: 12978.2638 | Time: 24.84s\n"
     ]
    },
    {
     "name": "stderr",
     "output_type": "stream",
     "text": [
      "Epoch 53/100: 100%|██████████| 13/13 [00:24<00:00,  1.89s/it]\n",
      "Epoch 53/100: 100%|██████████| 4/4 [00:03<00:00,  1.11it/s]\n"
     ]
    },
    {
     "name": "stdout",
     "output_type": "stream",
     "text": [
      "Epoch 53/100 | Train Loss: 15511.1006 | Valid Loss: 13087.0970 | Time: 24.85s\n"
     ]
    },
    {
     "name": "stderr",
     "output_type": "stream",
     "text": [
      "Epoch 54/100: 100%|██████████| 13/13 [00:24<00:00,  1.88s/it]\n",
      "Epoch 54/100: 100%|██████████| 4/4 [00:03<00:00,  1.14it/s]\n"
     ]
    },
    {
     "name": "stdout",
     "output_type": "stream",
     "text": [
      "Epoch 54/100 | Train Loss: 15393.6985 | Valid Loss: 12828.8809 | Time: 24.69s\n",
      "New best checkpoint saved!\n"
     ]
    },
    {
     "name": "stderr",
     "output_type": "stream",
     "text": [
      "Epoch 55/100: 100%|██████████| 13/13 [00:24<00:00,  1.89s/it]\n",
      "Epoch 55/100: 100%|██████████| 4/4 [00:03<00:00,  1.10it/s]\n"
     ]
    },
    {
     "name": "stdout",
     "output_type": "stream",
     "text": [
      "Epoch 55/100 | Train Loss: 15329.7351 | Valid Loss: 13139.3021 | Time: 24.80s\n"
     ]
    },
    {
     "name": "stderr",
     "output_type": "stream",
     "text": [
      "Epoch 56/100: 100%|██████████| 13/13 [00:25<00:00,  1.94s/it]\n",
      "Epoch 56/100: 100%|██████████| 4/4 [00:03<00:00,  1.11it/s]\n"
     ]
    },
    {
     "name": "stdout",
     "output_type": "stream",
     "text": [
      "Epoch 56/100 | Train Loss: 15444.0909 | Valid Loss: 12882.1212 | Time: 25.41s\n"
     ]
    },
    {
     "name": "stderr",
     "output_type": "stream",
     "text": [
      "Epoch 57/100: 100%|██████████| 13/13 [00:24<00:00,  1.89s/it]\n",
      "Epoch 57/100: 100%|██████████| 4/4 [00:03<00:00,  1.13it/s]\n"
     ]
    },
    {
     "name": "stdout",
     "output_type": "stream",
     "text": [
      "Epoch 57/100 | Train Loss: 15416.7997 | Valid Loss: 12987.6541 | Time: 24.81s\n"
     ]
    },
    {
     "name": "stderr",
     "output_type": "stream",
     "text": [
      "Epoch 58/100: 100%|██████████| 13/13 [00:24<00:00,  1.88s/it]\n",
      "Epoch 58/100: 100%|██████████| 4/4 [00:03<00:00,  1.10it/s]\n"
     ]
    },
    {
     "name": "stdout",
     "output_type": "stream",
     "text": [
      "Epoch 58/100 | Train Loss: 15176.7288 | Valid Loss: 12938.5244 | Time: 24.72s\n"
     ]
    },
    {
     "name": "stderr",
     "output_type": "stream",
     "text": [
      "Epoch 59/100: 100%|██████████| 13/13 [00:24<00:00,  1.88s/it]\n",
      "Epoch 59/100: 100%|██████████| 4/4 [00:03<00:00,  1.13it/s]\n"
     ]
    },
    {
     "name": "stdout",
     "output_type": "stream",
     "text": [
      "Epoch 59/100 | Train Loss: 15213.0575 | Valid Loss: 13041.1069 | Time: 24.71s\n"
     ]
    },
    {
     "name": "stderr",
     "output_type": "stream",
     "text": [
      "Epoch 60/100: 100%|██████████| 13/13 [00:24<00:00,  1.89s/it]\n",
      "Epoch 60/100: 100%|██████████| 4/4 [00:03<00:00,  1.11it/s]\n"
     ]
    },
    {
     "name": "stdout",
     "output_type": "stream",
     "text": [
      "Epoch 60/100 | Train Loss: 15179.6065 | Valid Loss: 13122.6783 | Time: 24.73s\n"
     ]
    },
    {
     "name": "stderr",
     "output_type": "stream",
     "text": [
      "Epoch 61/100: 100%|██████████| 13/13 [00:24<00:00,  1.88s/it]\n",
      "Epoch 61/100: 100%|██████████| 4/4 [00:03<00:00,  1.14it/s]\n"
     ]
    },
    {
     "name": "stdout",
     "output_type": "stream",
     "text": [
      "Epoch 61/100 | Train Loss: 15548.4450 | Valid Loss: 12902.8542 | Time: 24.71s\n"
     ]
    },
    {
     "name": "stderr",
     "output_type": "stream",
     "text": [
      "Epoch 62/100: 100%|██████████| 13/13 [00:24<00:00,  1.90s/it]\n",
      "Epoch 62/100: 100%|██████████| 4/4 [00:03<00:00,  1.11it/s]\n"
     ]
    },
    {
     "name": "stdout",
     "output_type": "stream",
     "text": [
      "Epoch 62/100 | Train Loss: 15041.9855 | Valid Loss: 12959.6005 | Time: 24.89s\n"
     ]
    },
    {
     "name": "stderr",
     "output_type": "stream",
     "text": [
      "Epoch 63/100: 100%|██████████| 13/13 [00:24<00:00,  1.88s/it]\n",
      "Epoch 63/100: 100%|██████████| 4/4 [00:03<00:00,  1.12it/s]\n"
     ]
    },
    {
     "name": "stdout",
     "output_type": "stream",
     "text": [
      "Epoch 63/100 | Train Loss: 15270.1696 | Valid Loss: 13044.4613 | Time: 24.72s\n"
     ]
    },
    {
     "name": "stderr",
     "output_type": "stream",
     "text": [
      "Epoch 64/100: 100%|██████████| 13/13 [00:24<00:00,  1.89s/it]\n",
      "Epoch 64/100: 100%|██████████| 4/4 [00:03<00:00,  1.13it/s]\n"
     ]
    },
    {
     "name": "stdout",
     "output_type": "stream",
     "text": [
      "Epoch 64/100 | Train Loss: 15495.7848 | Valid Loss: 12962.6626 | Time: 24.79s\n"
     ]
    },
    {
     "name": "stderr",
     "output_type": "stream",
     "text": [
      "Epoch 65/100: 100%|██████████| 13/13 [00:24<00:00,  1.90s/it]\n",
      "Epoch 65/100: 100%|██████████| 4/4 [00:03<00:00,  1.09it/s]\n"
     ]
    },
    {
     "name": "stdout",
     "output_type": "stream",
     "text": [
      "Epoch 65/100 | Train Loss: 15408.5642 | Valid Loss: 12864.5607 | Time: 24.89s\n"
     ]
    },
    {
     "name": "stderr",
     "output_type": "stream",
     "text": [
      "Epoch 66/100: 100%|██████████| 13/13 [00:24<00:00,  1.89s/it]\n",
      "Epoch 66/100: 100%|██████████| 4/4 [00:03<00:00,  1.09it/s]\n"
     ]
    },
    {
     "name": "stdout",
     "output_type": "stream",
     "text": [
      "Epoch 66/100 | Train Loss: 15144.6127 | Valid Loss: 12990.5227 | Time: 24.85s\n"
     ]
    },
    {
     "name": "stderr",
     "output_type": "stream",
     "text": [
      "Epoch 67/100: 100%|██████████| 13/13 [00:24<00:00,  1.89s/it]\n",
      "Epoch 67/100: 100%|██████████| 4/4 [00:03<00:00,  1.08it/s]\n"
     ]
    },
    {
     "name": "stdout",
     "output_type": "stream",
     "text": [
      "Epoch 67/100 | Train Loss: 15154.2890 | Valid Loss: 12958.0323 | Time: 24.79s\n"
     ]
    },
    {
     "name": "stderr",
     "output_type": "stream",
     "text": [
      "Epoch 68/100: 100%|██████████| 13/13 [00:24<00:00,  1.90s/it]\n",
      "Epoch 68/100: 100%|██████████| 4/4 [00:03<00:00,  1.06it/s]\n"
     ]
    },
    {
     "name": "stdout",
     "output_type": "stream",
     "text": [
      "Epoch 68/100 | Train Loss: 15162.0866 | Valid Loss: 12919.9674 | Time: 24.95s\n"
     ]
    },
    {
     "name": "stderr",
     "output_type": "stream",
     "text": [
      "Epoch 69/100: 100%|██████████| 13/13 [00:24<00:00,  1.89s/it]\n",
      "Epoch 69/100: 100%|██████████| 4/4 [00:03<00:00,  1.14it/s]\n"
     ]
    },
    {
     "name": "stdout",
     "output_type": "stream",
     "text": [
      "Epoch 69/100 | Train Loss: 15626.5007 | Valid Loss: 12832.6000 | Time: 24.74s\n"
     ]
    },
    {
     "name": "stderr",
     "output_type": "stream",
     "text": [
      "Epoch 70/100: 100%|██████████| 13/13 [00:24<00:00,  1.88s/it]\n",
      "Epoch 70/100: 100%|██████████| 4/4 [00:03<00:00,  1.09it/s]\n"
     ]
    },
    {
     "name": "stdout",
     "output_type": "stream",
     "text": [
      "Epoch 70/100 | Train Loss: 15287.0935 | Valid Loss: 12815.3446 | Time: 24.65s\n",
      "New best checkpoint saved!\n"
     ]
    },
    {
     "name": "stderr",
     "output_type": "stream",
     "text": [
      "Epoch 71/100: 100%|██████████| 13/13 [00:24<00:00,  1.89s/it]\n",
      "Epoch 71/100: 100%|██████████| 4/4 [00:03<00:00,  1.11it/s]\n"
     ]
    },
    {
     "name": "stdout",
     "output_type": "stream",
     "text": [
      "Epoch 71/100 | Train Loss: 15105.7903 | Valid Loss: 12886.5693 | Time: 24.85s\n"
     ]
    },
    {
     "name": "stderr",
     "output_type": "stream",
     "text": [
      "Epoch 72/100: 100%|██████████| 13/13 [00:24<00:00,  1.91s/it]\n",
      "Epoch 72/100: 100%|██████████| 4/4 [00:03<00:00,  1.11it/s]\n"
     ]
    },
    {
     "name": "stdout",
     "output_type": "stream",
     "text": [
      "Epoch 72/100 | Train Loss: 15466.5713 | Valid Loss: 13075.0098 | Time: 24.98s\n"
     ]
    },
    {
     "name": "stderr",
     "output_type": "stream",
     "text": [
      "Epoch 73/100: 100%|██████████| 13/13 [00:24<00:00,  1.89s/it]\n",
      "Epoch 73/100: 100%|██████████| 4/4 [00:03<00:00,  1.10it/s]\n"
     ]
    },
    {
     "name": "stdout",
     "output_type": "stream",
     "text": [
      "Epoch 73/100 | Train Loss: 15396.7292 | Valid Loss: 12893.0258 | Time: 24.81s\n"
     ]
    },
    {
     "name": "stderr",
     "output_type": "stream",
     "text": [
      "Epoch 74/100: 100%|██████████| 13/13 [00:24<00:00,  1.90s/it]\n",
      "Epoch 74/100: 100%|██████████| 4/4 [00:03<00:00,  1.09it/s]\n"
     ]
    },
    {
     "name": "stdout",
     "output_type": "stream",
     "text": [
      "Epoch 74/100 | Train Loss: 15385.1145 | Valid Loss: 12952.5874 | Time: 24.86s\n"
     ]
    },
    {
     "name": "stderr",
     "output_type": "stream",
     "text": [
      "Epoch 75/100: 100%|██████████| 13/13 [00:24<00:00,  1.89s/it]\n",
      "Epoch 75/100: 100%|██████████| 4/4 [00:03<00:00,  1.11it/s]\n"
     ]
    },
    {
     "name": "stdout",
     "output_type": "stream",
     "text": [
      "Epoch 75/100 | Train Loss: 15239.2696 | Valid Loss: 12727.4698 | Time: 24.78s\n",
      "New best checkpoint saved!\n"
     ]
    },
    {
     "name": "stderr",
     "output_type": "stream",
     "text": [
      "Epoch 76/100: 100%|██████████| 13/13 [00:24<00:00,  1.88s/it]\n",
      "Epoch 76/100: 100%|██████████| 4/4 [00:03<00:00,  1.10it/s]\n"
     ]
    },
    {
     "name": "stdout",
     "output_type": "stream",
     "text": [
      "Epoch 76/100 | Train Loss: 14987.6011 | Valid Loss: 13043.7023 | Time: 24.72s\n"
     ]
    },
    {
     "name": "stderr",
     "output_type": "stream",
     "text": [
      "Epoch 77/100: 100%|██████████| 13/13 [00:25<00:00,  1.97s/it]\n",
      "Epoch 77/100: 100%|██████████| 4/4 [00:03<00:00,  1.11it/s]\n"
     ]
    },
    {
     "name": "stdout",
     "output_type": "stream",
     "text": [
      "Epoch 77/100 | Train Loss: 14870.2927 | Valid Loss: 13100.9023 | Time: 25.85s\n"
     ]
    },
    {
     "name": "stderr",
     "output_type": "stream",
     "text": [
      "Epoch 78/100: 100%|██████████| 13/13 [00:24<00:00,  1.88s/it]\n",
      "Epoch 78/100: 100%|██████████| 4/4 [00:03<00:00,  1.09it/s]\n"
     ]
    },
    {
     "name": "stdout",
     "output_type": "stream",
     "text": [
      "Epoch 78/100 | Train Loss: 14873.1135 | Valid Loss: 12758.7979 | Time: 24.67s\n"
     ]
    },
    {
     "name": "stderr",
     "output_type": "stream",
     "text": [
      "Epoch 79/100: 100%|██████████| 13/13 [00:24<00:00,  1.90s/it]\n",
      "Epoch 79/100: 100%|██████████| 4/4 [00:03<00:00,  1.13it/s]\n"
     ]
    },
    {
     "name": "stdout",
     "output_type": "stream",
     "text": [
      "Epoch 79/100 | Train Loss: 15141.1294 | Valid Loss: 12901.8141 | Time: 24.91s\n"
     ]
    },
    {
     "name": "stderr",
     "output_type": "stream",
     "text": [
      "Epoch 80/100: 100%|██████████| 13/13 [00:24<00:00,  1.89s/it]\n",
      "Epoch 80/100: 100%|██████████| 4/4 [00:03<00:00,  1.12it/s]\n"
     ]
    },
    {
     "name": "stdout",
     "output_type": "stream",
     "text": [
      "Epoch 80/100 | Train Loss: 15327.3321 | Valid Loss: 12814.7083 | Time: 24.82s\n"
     ]
    },
    {
     "name": "stderr",
     "output_type": "stream",
     "text": [
      "Epoch 81/100: 100%|██████████| 13/13 [00:24<00:00,  1.89s/it]\n",
      "Epoch 81/100: 100%|██████████| 4/4 [00:03<00:00,  1.10it/s]\n"
     ]
    },
    {
     "name": "stdout",
     "output_type": "stream",
     "text": [
      "Epoch 81/100 | Train Loss: 15210.0384 | Valid Loss: 13016.1256 | Time: 24.79s\n"
     ]
    },
    {
     "name": "stderr",
     "output_type": "stream",
     "text": [
      "Epoch 82/100: 100%|██████████| 13/13 [00:24<00:00,  1.89s/it]\n",
      "Epoch 82/100: 100%|██████████| 4/4 [00:03<00:00,  1.09it/s]\n"
     ]
    },
    {
     "name": "stdout",
     "output_type": "stream",
     "text": [
      "Epoch 82/100 | Train Loss: 14962.4845 | Valid Loss: 12826.7821 | Time: 24.87s\n"
     ]
    },
    {
     "name": "stderr",
     "output_type": "stream",
     "text": [
      "Epoch 83/100: 100%|██████████| 13/13 [00:24<00:00,  1.89s/it]\n",
      "Epoch 83/100: 100%|██████████| 4/4 [00:03<00:00,  1.10it/s]\n"
     ]
    },
    {
     "name": "stdout",
     "output_type": "stream",
     "text": [
      "Epoch 83/100 | Train Loss: 15179.4547 | Valid Loss: 12934.5535 | Time: 24.86s\n"
     ]
    },
    {
     "name": "stderr",
     "output_type": "stream",
     "text": [
      "Epoch 84/100: 100%|██████████| 13/13 [00:24<00:00,  1.90s/it]\n",
      "Epoch 84/100: 100%|██████████| 4/4 [00:03<00:00,  1.10it/s]\n"
     ]
    },
    {
     "name": "stdout",
     "output_type": "stream",
     "text": [
      "Epoch 84/100 | Train Loss: 15073.3351 | Valid Loss: 12856.3149 | Time: 24.94s\n"
     ]
    },
    {
     "name": "stderr",
     "output_type": "stream",
     "text": [
      "Epoch 85/100: 100%|██████████| 13/13 [00:24<00:00,  1.89s/it]\n",
      "Epoch 85/100: 100%|██████████| 4/4 [00:03<00:00,  1.04it/s]\n"
     ]
    },
    {
     "name": "stdout",
     "output_type": "stream",
     "text": [
      "Epoch 85/100 | Train Loss: 15181.7988 | Valid Loss: 12789.9719 | Time: 24.82s\n"
     ]
    },
    {
     "name": "stderr",
     "output_type": "stream",
     "text": [
      "Epoch 86/100: 100%|██████████| 13/13 [00:24<00:00,  1.89s/it]\n",
      "Epoch 86/100: 100%|██████████| 4/4 [00:03<00:00,  1.06it/s]\n"
     ]
    },
    {
     "name": "stdout",
     "output_type": "stream",
     "text": [
      "Epoch 86/100 | Train Loss: 15212.5542 | Valid Loss: 13070.6256 | Time: 24.80s\n"
     ]
    },
    {
     "name": "stderr",
     "output_type": "stream",
     "text": [
      "Epoch 87/100: 100%|██████████| 13/13 [00:24<00:00,  1.90s/it]\n",
      "Epoch 87/100: 100%|██████████| 4/4 [00:03<00:00,  1.12it/s]\n"
     ]
    },
    {
     "name": "stdout",
     "output_type": "stream",
     "text": [
      "Epoch 87/100 | Train Loss: 15188.4570 | Valid Loss: 12811.2069 | Time: 24.93s\n"
     ]
    },
    {
     "name": "stderr",
     "output_type": "stream",
     "text": [
      "Epoch 88/100: 100%|██████████| 13/13 [00:24<00:00,  1.90s/it]\n",
      "Epoch 88/100: 100%|██████████| 4/4 [00:03<00:00,  1.09it/s]\n"
     ]
    },
    {
     "name": "stdout",
     "output_type": "stream",
     "text": [
      "Epoch 88/100 | Train Loss: 14877.8127 | Valid Loss: 12952.7617 | Time: 24.90s\n"
     ]
    },
    {
     "name": "stderr",
     "output_type": "stream",
     "text": [
      "Epoch 89/100: 100%|██████████| 13/13 [00:24<00:00,  1.91s/it]\n",
      "Epoch 89/100: 100%|██████████| 4/4 [00:03<00:00,  1.09it/s]\n"
     ]
    },
    {
     "name": "stdout",
     "output_type": "stream",
     "text": [
      "Epoch 89/100 | Train Loss: 15010.9889 | Valid Loss: 12813.4287 | Time: 25.05s\n"
     ]
    },
    {
     "name": "stderr",
     "output_type": "stream",
     "text": [
      "Epoch 90/100: 100%|██████████| 13/13 [00:24<00:00,  1.89s/it]\n",
      "Epoch 90/100: 100%|██████████| 4/4 [00:03<00:00,  1.09it/s]\n"
     ]
    },
    {
     "name": "stdout",
     "output_type": "stream",
     "text": [
      "Epoch 90/100 | Train Loss: 15457.4520 | Valid Loss: 12885.2562 | Time: 24.87s\n"
     ]
    },
    {
     "name": "stderr",
     "output_type": "stream",
     "text": [
      "Epoch 91/100: 100%|██████████| 13/13 [00:24<00:00,  1.89s/it]\n",
      "Epoch 91/100: 100%|██████████| 4/4 [00:03<00:00,  1.10it/s]\n"
     ]
    },
    {
     "name": "stdout",
     "output_type": "stream",
     "text": [
      "Epoch 91/100 | Train Loss: 14962.6372 | Valid Loss: 12770.4110 | Time: 24.85s\n"
     ]
    },
    {
     "name": "stderr",
     "output_type": "stream",
     "text": [
      "Epoch 92/100: 100%|██████████| 13/13 [00:24<00:00,  1.90s/it]\n",
      "Epoch 92/100: 100%|██████████| 4/4 [00:03<00:00,  1.08it/s]\n"
     ]
    },
    {
     "name": "stdout",
     "output_type": "stream",
     "text": [
      "Epoch 92/100 | Train Loss: 15501.0380 | Valid Loss: 12919.4108 | Time: 24.91s\n"
     ]
    },
    {
     "name": "stderr",
     "output_type": "stream",
     "text": [
      "Epoch 93/100: 100%|██████████| 13/13 [00:24<00:00,  1.90s/it]\n",
      "Epoch 93/100: 100%|██████████| 4/4 [00:03<00:00,  1.09it/s]\n"
     ]
    },
    {
     "name": "stdout",
     "output_type": "stream",
     "text": [
      "Epoch 93/100 | Train Loss: 15269.0154 | Valid Loss: 12768.6509 | Time: 24.91s\n"
     ]
    },
    {
     "name": "stderr",
     "output_type": "stream",
     "text": [
      "Epoch 94/100: 100%|██████████| 13/13 [00:24<00:00,  1.89s/it]\n",
      "Epoch 94/100: 100%|██████████| 4/4 [00:03<00:00,  1.08it/s]\n"
     ]
    },
    {
     "name": "stdout",
     "output_type": "stream",
     "text": [
      "Epoch 94/100 | Train Loss: 15178.6856 | Valid Loss: 12852.6698 | Time: 24.84s\n"
     ]
    },
    {
     "name": "stderr",
     "output_type": "stream",
     "text": [
      "Epoch 95/100: 100%|██████████| 13/13 [00:24<00:00,  1.89s/it]\n",
      "Epoch 95/100: 100%|██████████| 4/4 [00:03<00:00,  1.09it/s]\n"
     ]
    },
    {
     "name": "stdout",
     "output_type": "stream",
     "text": [
      "Epoch 95/100 | Train Loss: 15091.0551 | Valid Loss: 12855.6677 | Time: 24.75s\n"
     ]
    },
    {
     "name": "stderr",
     "output_type": "stream",
     "text": [
      "Epoch 96/100: 100%|██████████| 13/13 [00:24<00:00,  1.90s/it]\n",
      "Epoch 96/100: 100%|██████████| 4/4 [00:03<00:00,  1.10it/s]\n"
     ]
    },
    {
     "name": "stdout",
     "output_type": "stream",
     "text": [
      "Epoch 96/100 | Train Loss: 15054.1762 | Valid Loss: 12771.5503 | Time: 24.92s\n"
     ]
    },
    {
     "name": "stderr",
     "output_type": "stream",
     "text": [
      "Epoch 97/100: 100%|██████████| 13/13 [00:24<00:00,  1.89s/it]\n",
      "Epoch 97/100: 100%|██████████| 4/4 [00:03<00:00,  1.08it/s]\n"
     ]
    },
    {
     "name": "stdout",
     "output_type": "stream",
     "text": [
      "Epoch 97/100 | Train Loss: 15126.2659 | Valid Loss: 12966.9799 | Time: 24.78s\n"
     ]
    },
    {
     "name": "stderr",
     "output_type": "stream",
     "text": [
      "Epoch 98/100: 100%|██████████| 13/13 [00:24<00:00,  1.90s/it]\n",
      "Epoch 98/100: 100%|██████████| 4/4 [00:03<00:00,  1.11it/s]\n"
     ]
    },
    {
     "name": "stdout",
     "output_type": "stream",
     "text": [
      "Epoch 98/100 | Train Loss: 14840.2263 | Valid Loss: 12867.4064 | Time: 24.91s\n"
     ]
    },
    {
     "name": "stderr",
     "output_type": "stream",
     "text": [
      "Epoch 99/100: 100%|██████████| 13/13 [00:24<00:00,  1.88s/it]\n",
      "Epoch 99/100: 100%|██████████| 4/4 [00:03<00:00,  1.11it/s]\n"
     ]
    },
    {
     "name": "stdout",
     "output_type": "stream",
     "text": [
      "Epoch 99/100 | Train Loss: 15395.2933 | Valid Loss: 12813.4691 | Time: 24.66s\n"
     ]
    },
    {
     "name": "stderr",
     "output_type": "stream",
     "text": [
      "Epoch 100/100: 100%|██████████| 13/13 [00:24<00:00,  1.89s/it]\n",
      "Epoch 100/100: 100%|██████████| 4/4 [00:03<00:00,  1.08it/s]\n"
     ]
    },
    {
     "name": "stdout",
     "output_type": "stream",
     "text": [
      "Epoch 100/100 | Train Loss: 15139.6864 | Valid Loss: 12922.7050 | Time: 24.86s\n"
     ]
    },
    {
     "name": "stderr",
     "output_type": "stream",
     "text": [
      "\u001b[34m\u001b[1mwandb\u001b[0m:                                                                                \n",
      "\u001b[34m\u001b[1mwandb\u001b[0m: \n",
      "\u001b[34m\u001b[1mwandb\u001b[0m: Run history:\n",
      "\u001b[34m\u001b[1mwandb\u001b[0m: learning_rate ██████████▅▅▅▅▅▅▅▃▃▃▃▃▃▃▃▂▂▂▂▂▂▂▁▁▁▁▁▁▁▁\n",
      "\u001b[34m\u001b[1mwandb\u001b[0m:    train_loss █▇██▇▆▆▅▇▅▅▄▅▅▄▄▃▄▃▄▅▃▂▃▄▂▃▄▂▃▂▃▂▄▁▁▁▂▁▄\n",
      "\u001b[34m\u001b[1mwandb\u001b[0m:    valid_loss █▇▇█▇▆▇▇▅▅▅▄▃▄▄▄▄▃▃▄▂▄▄▁▃▁▁▂▃▁▂▁▁▂▁▁▂▂▂▂\n",
      "\u001b[34m\u001b[1mwandb\u001b[0m: \n",
      "\u001b[34m\u001b[1mwandb\u001b[0m: Run summary:\n",
      "\u001b[34m\u001b[1mwandb\u001b[0m: learning_rate 2e-05\n",
      "\u001b[34m\u001b[1mwandb\u001b[0m:    train_loss 15139.68637\n",
      "\u001b[34m\u001b[1mwandb\u001b[0m:    valid_loss 12922.70496\n",
      "\u001b[34m\u001b[1mwandb\u001b[0m: \n",
      "\u001b[34m\u001b[1mwandb\u001b[0m: 🚀 View run \u001b[33melectric-water-6\u001b[0m at: \u001b[34m\u001b[4mhttps://wandb.ai/namnguyen2103/UNet/runs/p4d9x5tr\u001b[0m\n",
      "\u001b[34m\u001b[1mwandb\u001b[0m: ⭐️ View project at: \u001b[34m\u001b[4mhttps://wandb.ai/namnguyen2103/UNet\u001b[0m\n",
      "\u001b[34m\u001b[1mwandb\u001b[0m: Synced 5 W&B file(s), 0 media file(s), 0 artifact file(s) and 0 other file(s)\n",
      "\u001b[34m\u001b[1mwandb\u001b[0m: Find logs at: \u001b[35m\u001b[1m./wandb/run-20241125_032834-p4d9x5tr/logs\u001b[0m\n"
     ]
    }
   ],
   "source": [
    "wandb.login(key=\"\")\n",
    "unet = Network()\n",
    "unet.train_model()"
   ]
  }
 ],
 "metadata": {
  "kaggle": {
   "accelerator": "nvidiaTeslaT4",
   "dataSources": [],
   "dockerImageVersionId": 30786,
   "isGpuEnabled": true,
   "isInternetEnabled": true,
   "language": "python",
   "sourceType": "notebook"
  },
  "kernelspec": {
   "display_name": "Python 3",
   "language": "python",
   "name": "python3"
  },
  "language_info": {
   "codemirror_mode": {
    "name": "ipython",
    "version": 3
   },
   "file_extension": ".py",
   "mimetype": "text/x-python",
   "name": "python",
   "nbconvert_exporter": "python",
   "pygments_lexer": "ipython3",
   "version": "3.10.14"
  },
  "papermill": {
   "default_parameters": {},
   "duration": 3075.556745,
   "end_time": "2024-11-25T04:18:34.581254",
   "environment_variables": {},
   "exception": null,
   "input_path": "__notebook__.ipynb",
   "output_path": "__notebook__.ipynb",
   "parameters": {},
   "start_time": "2024-11-25T03:27:19.024509",
   "version": "2.6.0"
  }
 },
 "nbformat": 4,
 "nbformat_minor": 5
}
